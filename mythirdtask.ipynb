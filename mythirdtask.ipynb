{
 "cells": [
  {
   "cell_type": "code",
   "execution_count": 23,
   "metadata": {},
   "outputs": [
    {
     "data": {
      "text/plain": [
       "<BarContainer object of 1 artists>"
      ]
     },
     "execution_count": 23,
     "metadata": {},
     "output_type": "execute_result"
    },
    {
     "data": {
      "image/png": "[encoded data removed]",
      "text/plain": [
       "<Figure size 640x480 with 1 Axes>"
      ]
     },
     "metadata": {},
     "output_type": "display_data"
    }
   ],
   "source": [
    "import pandas as pd\n",
    "from glob import glob\n",
    "fileList=glob(\"c:/data/kbo/*.csv\")\n",
    "fileList\n",
    "\n",
    "prData=pd.read_csv(fileList[0])\n",
    "reData=pd.read_csv(fileList[1])\n",
    "\n",
    "# print(prData.head())\n",
    "# print(reData.head())\n",
    "\n",
    "# print(prData.columns)\n",
    "# reData.columns\n",
    "\n",
    "tmp = prData.columns == reData.columns\n",
    "tmp[tmp==1]\n",
    "\n",
    "import numpy as np\n",
    "result = np.unique(tmp, return_counts=True)\n",
    "\n",
    "import matplotlib.pyplot as plt\n",
    "# plt.bar(x=result[0], y=result[1]) == error\n",
    "# plt.bar(x=result[0], height=result[1])\n",
    "plt.bar(result[0], result[1])\n"
   ]
  },
  {
   "cell_type": "code",
   "execution_count": 24,
   "metadata": {},
   "outputs": [
    {
     "data": {
      "text/html": [
       "<div>\n",
       "<style scoped>\n",
       "    .dataframe tbody tr th:only-of-type {\n",
       "        vertical-align: middle;\n",
       "    }\n",
       "\n",
       "    .dataframe tbody tr th {\n",
       "        vertical-align: top;\n",
       "    }\n",
       "\n",
       "    .dataframe thead th {\n",
       "        text-align: right;\n",
       "    }\n",
       "</style>\n",
       "<table border=\"1\" class=\"dataframe\">\n",
       "  <thead>\n",
       "    <tr style=\"text-align: right;\">\n",
       "      <th></th>\n",
       "      <th>batter_id</th>\n",
       "      <th>batter_name</th>\n",
       "      <th>year</th>\n",
       "      <th>team</th>\n",
       "      <th>avg</th>\n",
       "      <th>G</th>\n",
       "      <th>AB</th>\n",
       "      <th>R</th>\n",
       "      <th>H</th>\n",
       "      <th>2B</th>\n",
       "      <th>...</th>\n",
       "      <th>GDP</th>\n",
       "      <th>SLG</th>\n",
       "      <th>OBP</th>\n",
       "      <th>E</th>\n",
       "      <th>height/weight</th>\n",
       "      <th>year_born</th>\n",
       "      <th>position</th>\n",
       "      <th>career</th>\n",
       "      <th>starting_salary</th>\n",
       "      <th>OPS</th>\n",
       "    </tr>\n",
       "  </thead>\n",
       "  <tbody>\n",
       "    <tr>\n",
       "      <th>0</th>\n",
       "      <td>0</td>\n",
       "      <td>가르시아</td>\n",
       "      <td>2018</td>\n",
       "      <td>LG</td>\n",
       "      <td>0.350</td>\n",
       "      <td>7</td>\n",
       "      <td>20</td>\n",
       "      <td>1</td>\n",
       "      <td>7</td>\n",
       "      <td>1</td>\n",
       "      <td>...</td>\n",
       "      <td>1</td>\n",
       "      <td>0.550</td>\n",
       "      <td>0.409</td>\n",
       "      <td>1</td>\n",
       "      <td>177cm/93kg</td>\n",
       "      <td>1985년 04월 12일</td>\n",
       "      <td>내야수(우투우타)</td>\n",
       "      <td>쿠바 Ciego de Avila Maximo Gomez Baez(대)</td>\n",
       "      <td>NaN</td>\n",
       "      <td>0.959</td>\n",
       "    </tr>\n",
       "    <tr>\n",
       "      <th>1</th>\n",
       "      <td>1</td>\n",
       "      <td>강경학</td>\n",
       "      <td>2011</td>\n",
       "      <td>한화</td>\n",
       "      <td>0.000</td>\n",
       "      <td>4</td>\n",
       "      <td>2</td>\n",
       "      <td>2</td>\n",
       "      <td>0</td>\n",
       "      <td>0</td>\n",
       "      <td>...</td>\n",
       "      <td>0</td>\n",
       "      <td>0.000</td>\n",
       "      <td>0.500</td>\n",
       "      <td>0</td>\n",
       "      <td>180cm/72kg</td>\n",
       "      <td>1992년 08월 11일</td>\n",
       "      <td>내야수(우투좌타)</td>\n",
       "      <td>광주대성초-광주동성중-광주동성고</td>\n",
       "      <td>10000만원</td>\n",
       "      <td>0.500</td>\n",
       "    </tr>\n",
       "    <tr>\n",
       "      <th>2</th>\n",
       "      <td>1</td>\n",
       "      <td>강경학</td>\n",
       "      <td>2014</td>\n",
       "      <td>한화</td>\n",
       "      <td>-</td>\n",
       "      <td>4</td>\n",
       "      <td>0</td>\n",
       "      <td>2</td>\n",
       "      <td>0</td>\n",
       "      <td>0</td>\n",
       "      <td>...</td>\n",
       "      <td>0</td>\n",
       "      <td>NaN</td>\n",
       "      <td>NaN</td>\n",
       "      <td>0</td>\n",
       "      <td>180cm/72kg</td>\n",
       "      <td>1992년 08월 11일</td>\n",
       "      <td>내야수(우투좌타)</td>\n",
       "      <td>광주대성초-광주동성중-광주동성고</td>\n",
       "      <td>10000만원</td>\n",
       "      <td>NaN</td>\n",
       "    </tr>\n",
       "    <tr>\n",
       "      <th>3</th>\n",
       "      <td>1</td>\n",
       "      <td>강경학</td>\n",
       "      <td>2015</td>\n",
       "      <td>한화</td>\n",
       "      <td>0.130</td>\n",
       "      <td>10</td>\n",
       "      <td>23</td>\n",
       "      <td>3</td>\n",
       "      <td>3</td>\n",
       "      <td>0</td>\n",
       "      <td>...</td>\n",
       "      <td>0</td>\n",
       "      <td>0.130</td>\n",
       "      <td>0.286</td>\n",
       "      <td>2</td>\n",
       "      <td>180cm/72kg</td>\n",
       "      <td>1992년 08월 11일</td>\n",
       "      <td>내야수(우투좌타)</td>\n",
       "      <td>광주대성초-광주동성중-광주동성고</td>\n",
       "      <td>10000만원</td>\n",
       "      <td>0.416</td>\n",
       "    </tr>\n",
       "    <tr>\n",
       "      <th>4</th>\n",
       "      <td>1</td>\n",
       "      <td>강경학</td>\n",
       "      <td>2016</td>\n",
       "      <td>한화</td>\n",
       "      <td>0.188</td>\n",
       "      <td>14</td>\n",
       "      <td>32</td>\n",
       "      <td>4</td>\n",
       "      <td>6</td>\n",
       "      <td>1</td>\n",
       "      <td>...</td>\n",
       "      <td>0</td>\n",
       "      <td>0.281</td>\n",
       "      <td>0.212</td>\n",
       "      <td>0</td>\n",
       "      <td>180cm/72kg</td>\n",
       "      <td>1992년 08월 11일</td>\n",
       "      <td>내야수(우투좌타)</td>\n",
       "      <td>광주대성초-광주동성중-광주동성고</td>\n",
       "      <td>10000만원</td>\n",
       "      <td>0.493</td>\n",
       "    </tr>\n",
       "  </tbody>\n",
       "</table>\n",
       "<p>5 rows × 29 columns</p>\n",
       "</div>"
      ],
      "text/plain": [
       "   batter_id batter_name  year team    avg   G  AB  R  H  2B  ...  GDP    SLG  \\\n",
       "0          0        가르시아  2018   LG  0.350   7  20  1  7   1  ...    1  0.550   \n",
       "1          1         강경학  2011   한화  0.000   4   2  2  0   0  ...    0  0.000   \n",
       "2          1         강경학  2014   한화      -   4   0  2  0   0  ...    0    NaN   \n",
       "3          1         강경학  2015   한화  0.130  10  23  3  3   0  ...    0  0.130   \n",
       "4          1         강경학  2016   한화  0.188  14  32  4  6   1  ...    0  0.281   \n",
       "\n",
       "     OBP  E  height/weight      year_born   position  \\\n",
       "0  0.409  1     177cm/93kg  1985년 04월 12일  내야수(우투우타)   \n",
       "1  0.500  0     180cm/72kg  1992년 08월 11일  내야수(우투좌타)   \n",
       "2    NaN  0     180cm/72kg  1992년 08월 11일  내야수(우투좌타)   \n",
       "3  0.286  2     180cm/72kg  1992년 08월 11일  내야수(우투좌타)   \n",
       "4  0.212  0     180cm/72kg  1992년 08월 11일  내야수(우투좌타)   \n",
       "\n",
       "                                   career  starting_salary    OPS  \n",
       "0  쿠바 Ciego de Avila Maximo Gomez Baez(대)              NaN  0.959  \n",
       "1                       광주대성초-광주동성중-광주동성고          10000만원  0.500  \n",
       "2                       광주대성초-광주동성중-광주동성고          10000만원    NaN  \n",
       "3                       광주대성초-광주동성중-광주동성고          10000만원  0.416  \n",
       "4                       광주대성초-광주동성중-광주동성고          10000만원  0.493  \n",
       "\n",
       "[5 rows x 29 columns]"
      ]
     },
     "execution_count": 24,
     "metadata": {},
     "output_type": "execute_result"
    }
   ],
   "source": [
    "prData.head()"
   ]
  },
  {
   "attachments": {},
   "cell_type": "markdown",
   "metadata": {},
   "source": [
    "## PYTHON 기본문법"
   ]
  },
  {
   "cell_type": "code",
   "execution_count": 44,
   "metadata": {},
   "outputs": [
    {
     "name": "stdout",
     "output_type": "stream",
     "text": [
      "abc f\n",
      "abcff\n"
     ]
    }
   ],
   "source": [
    "txt1 = 'abc'\n",
    "txt2 = 'f'\n",
    "\n",
    "print(txt1, txt2)\n",
    "print(txt1, end=txt2) #end의 역할\n",
    "print(txt2)"
   ]
  },
  {
   "cell_type": "code",
   "execution_count": 58,
   "metadata": {},
   "outputs": [
    {
     "name": "stdout",
     "output_type": "stream",
     "text": [
      "----------------------------------------------------------------------------------------------------\n",
      "-----\n",
      "500\n",
      "500\n",
      "+++\n",
      "-----\n",
      "______________________________\n"
     ]
    }
   ],
   "source": [
    "#함수선언\n",
    "def prnLine(x1='-',x2=100):\n",
    "    print(x1*x2)\n",
    "\n",
    "#함수호출\n",
    "prnLine()\n",
    "prnLine(x2=5)\n",
    "prnLine(5,)\n",
    "prnLine(5)\n",
    "prnLine(\"+\",3)\n",
    "prnLine(x2=5,)\n",
    "prnLine(x1='___',x2=10)\n",
    "# prnLine(,5) => errpr"
   ]
  },
  {
   "cell_type": "code",
   "execution_count": 76,
   "metadata": {},
   "outputs": [
    {
     "name": "stdout",
     "output_type": "stream",
     "text": [
      "\n",
      "        date: 2023-1-1\n",
      "        write: bu\n",
      "        version: 1.2\n",
      "        lan: python\n",
      "    \n",
      "----------------------------------------------------------------------------------------------------\n"
     ]
    }
   ],
   "source": [
    "def prnLine(x1='-', x2=100):\n",
    "    print(x1*x2)\n",
    "\n",
    "def title(user='bu'):\n",
    "    txt='''\n",
    "        date: 2023-1-1\n",
    "        write: bu\n",
    "        version: 1.2\n",
    "        lan: python\n",
    "    '''\n",
    "\n",
    "    print(txt)\n",
    "    prnLine()\n",
    "\n",
    "title()"
   ]
  },
  {
   "attachments": {},
   "cell_type": "markdown",
   "metadata": {},
   "source": [
    "## return 값 유무 & Local, Global"
   ]
  },
  {
   "cell_type": "code",
   "execution_count": 85,
   "metadata": {},
   "outputs": [
    {
     "data": {
      "text/plain": [
       "12"
      ]
     },
     "execution_count": 85,
     "metadata": {},
     "output_type": "execute_result"
    }
   ],
   "source": [
    "def a(x1, x2, x3):\n",
    "    tmp=x1 + x2+ x3\n",
    "    return tmp\n",
    "\n",
    "b=a(3,4,5)\n",
    "b"
   ]
  },
  {
   "cell_type": "code",
   "execution_count": 89,
   "metadata": {},
   "outputs": [
    {
     "data": {
      "text/plain": [
       "19"
      ]
     },
     "execution_count": 89,
     "metadata": {},
     "output_type": "execute_result"
    }
   ],
   "source": [
    "#\n",
    "def a(x):\n",
    "    tmp = 0\n",
    "    for i in x:\n",
    "        tmp = tmp + i\n",
    "    return tmp\n",
    "\n",
    "b=a([1,3,4,5,6])\n",
    "b\n"
   ]
  },
  {
   "cell_type": "code",
   "execution_count": 91,
   "metadata": {},
   "outputs": [
    {
     "data": {
      "text/plain": [
       "19"
      ]
     },
     "execution_count": 91,
     "metadata": {},
     "output_type": "execute_result"
    }
   ],
   "source": [
    "def a(*x):\n",
    "    tmp = 0\n",
    "    for i in x:\n",
    "        tmp = tmp + i\n",
    "    return tmp\n",
    "\n",
    "b=a(1,3,4,5,6)\n",
    "b"
   ]
  },
  {
   "cell_type": "code",
   "execution_count": 11,
   "metadata": {},
   "outputs": [
    {
     "data": {
      "text/plain": [
       "['pey', 'bu', 'a']"
      ]
     },
     "execution_count": 11,
     "metadata": {},
     "output_type": "execute_result"
    }
   ],
   "source": [
    "a = {\n",
    "        'info' : {\n",
    "                'len':'python',\n",
    "                'wr':'la',\n",
    "                'date':'2302',\n",
    "                'ver':'1.1',\n",
    "                },\n",
    "\n",
    "        'data' : {    \n",
    "                'name' : ['pey', 'bu', 'a'],\n",
    "                'phone' : ['123','234', '567'],\n",
    "                'birth' : ['1133', '2233', '3334'],\n",
    "                'eye':{'eyeL':[1.0,2.0,1.5],\n",
    "                        'eyeR':[1.5, 1.2, 2.0]}\n",
    "                }\n",
    "}\n",
    "\n",
    "a.keys()\n",
    "a['data']['name']\n"
   ]
  },
  {
   "cell_type": "code",
   "execution_count": 12,
   "metadata": {},
   "outputs": [
    {
     "data": {
      "text/html": [
       "<div>\n",
       "<style scoped>\n",
       "    .dataframe tbody tr th:only-of-type {\n",
       "        vertical-align: middle;\n",
       "    }\n",
       "\n",
       "    .dataframe tbody tr th {\n",
       "        vertical-align: top;\n",
       "    }\n",
       "\n",
       "    .dataframe thead th {\n",
       "        text-align: right;\n",
       "    }\n",
       "</style>\n",
       "<table border=\"1\" class=\"dataframe\">\n",
       "  <thead>\n",
       "    <tr style=\"text-align: right;\">\n",
       "      <th></th>\n",
       "      <th>kor</th>\n",
       "      <th>eng</th>\n",
       "      <th>mat</th>\n",
       "    </tr>\n",
       "  </thead>\n",
       "  <tbody>\n",
       "    <tr>\n",
       "      <th>0</th>\n",
       "      <td>9</td>\n",
       "      <td>2</td>\n",
       "      <td>3</td>\n",
       "    </tr>\n",
       "    <tr>\n",
       "      <th>1</th>\n",
       "      <td>5</td>\n",
       "      <td>3</td>\n",
       "      <td>7</td>\n",
       "    </tr>\n",
       "    <tr>\n",
       "      <th>2</th>\n",
       "      <td>3</td>\n",
       "      <td>4</td>\n",
       "      <td>3</td>\n",
       "    </tr>\n",
       "  </tbody>\n",
       "</table>\n",
       "</div>"
      ],
      "text/plain": [
       "   kor  eng  mat\n",
       "0    9    2    3\n",
       "1    5    3    7\n",
       "2    3    4    3"
      ]
     },
     "execution_count": 12,
     "metadata": {},
     "output_type": "execute_result"
    }
   ],
   "source": [
    "x=dict({'kor':[9,5,3], 'eng':[2,3,4], 'mat':[3,7,3]})\n",
    "pd.DataFrame(x)"
   ]
  },
  {
   "cell_type": "code",
   "execution_count": 10,
   "metadata": {},
   "outputs": [
    {
     "data": {
      "text/html": [
       "<div>\n",
       "<style scoped>\n",
       "    .dataframe tbody tr th:only-of-type {\n",
       "        vertical-align: middle;\n",
       "    }\n",
       "\n",
       "    .dataframe tbody tr th {\n",
       "        vertical-align: top;\n",
       "    }\n",
       "\n",
       "    .dataframe thead th {\n",
       "        text-align: right;\n",
       "    }\n",
       "</style>\n",
       "<table border=\"1\" class=\"dataframe\">\n",
       "  <thead>\n",
       "    <tr style=\"text-align: right;\">\n",
       "      <th></th>\n",
       "      <th>kor</th>\n",
       "      <th>eng</th>\n",
       "      <th>mat</th>\n",
       "    </tr>\n",
       "  </thead>\n",
       "  <tbody>\n",
       "    <tr>\n",
       "      <th>0</th>\n",
       "      <td>6</td>\n",
       "      <td>4</td>\n",
       "      <td>1</td>\n",
       "    </tr>\n",
       "    <tr>\n",
       "      <th>1</th>\n",
       "      <td>6</td>\n",
       "      <td>4</td>\n",
       "      <td>5</td>\n",
       "    </tr>\n",
       "    <tr>\n",
       "      <th>2</th>\n",
       "      <td>4</td>\n",
       "      <td>6</td>\n",
       "      <td>2</td>\n",
       "    </tr>\n",
       "    <tr>\n",
       "      <th>3</th>\n",
       "      <td>1</td>\n",
       "      <td>5</td>\n",
       "      <td>3</td>\n",
       "    </tr>\n",
       "    <tr>\n",
       "      <th>4</th>\n",
       "      <td>4</td>\n",
       "      <td>4</td>\n",
       "      <td>5</td>\n",
       "    </tr>\n",
       "  </tbody>\n",
       "</table>\n",
       "</div>"
      ],
      "text/plain": [
       "   kor  eng  mat\n",
       "0    6    4    1\n",
       "1    6    4    5\n",
       "2    4    6    2\n",
       "3    1    5    3\n",
       "4    4    4    5"
      ]
     },
     "execution_count": 10,
     "metadata": {},
     "output_type": "execute_result"
    }
   ],
   "source": [
    "import numpy as np\n",
    "import pandas as pd\n",
    "\n",
    "\n",
    "a=np.random.rand(5,3)*7\n",
    "a=a.astype('int32')\n",
    "\n",
    "df=pd.DataFrame(a, columns=['kor','eng','mat'])\n",
    "df"
   ]
  },
  {
   "cell_type": "code",
   "execution_count": 43,
   "metadata": {},
   "outputs": [
    {
     "data": {
      "text/plain": [
       "array([1, 5, 5])"
      ]
     },
     "execution_count": 43,
     "metadata": {},
     "output_type": "execute_result"
    }
   ],
   "source": [
    "import numpy as np\n",
    "w=np.random.rand(3)*7\n",
    "w=w.astype('int32')\n",
    "w"
   ]
  },
  {
   "cell_type": "code",
   "execution_count": 44,
   "metadata": {},
   "outputs": [
    {
     "name": "stdout",
     "output_type": "stream",
     "text": [
      "[[ 6 20  5]\n",
      " [ 6 20 25]\n",
      " [ 4 30 10]\n",
      " [ 1 25 15]\n",
      " [ 4 20 25]]\n"
     ]
    },
    {
     "data": {
      "text/plain": [
       "array([31, 51, 44, 41, 49])"
      ]
     },
     "execution_count": 44,
     "metadata": {},
     "output_type": "execute_result"
    }
   ],
   "source": [
    "print(df.values*w)\n",
    "np.dot(df.values,w)"
   ]
  },
  {
   "cell_type": "code",
   "execution_count": 62,
   "metadata": {},
   "outputs": [
    {
     "data": {
      "text/plain": [
       "array([26, 34, 30, 23, 30])"
      ]
     },
     "execution_count": 62,
     "metadata": {},
     "output_type": "execute_result"
    }
   ],
   "source": [
    "def w(x):\n",
    "    import numpy as np\n",
    "    colCnt=len(x[4])\n",
    "    w=np.random.rand(colCnt)*7\n",
    "    w=w.astype('int32')\n",
    "    return w\n",
    "\n",
    "def cal(data, w):\n",
    "    return np.dot(data,w)\n",
    "    \n",
    "wei=w(df.values)\n",
    "cal(df.values,wei)"
   ]
  },
  {
   "cell_type": "code",
   "execution_count": 82,
   "metadata": {},
   "outputs": [
    {
     "name": "stdout",
     "output_type": "stream",
     "text": [
      "송아지 태어남..\n"
     ]
    },
    {
     "data": {
      "text/plain": [
       "<__main__.prn at 0x2be09d67590>"
      ]
     },
     "execution_count": 82,
     "metadata": {},
     "output_type": "execute_result"
    }
   ],
   "source": [
    "class prn:\n",
    "    def __init__(self,x):\n",
    "        print(x, '태어남..')\n",
    "    \n",
    "    def printLine():\n",
    "        print('-'*100)\n",
    "\n",
    "    def prnTile():\n",
    "        print('wwww')\n",
    "\n",
    "\n",
    "aa=prn(\"송아지\")\n",
    "aa"
   ]
  },
  {
   "cell_type": "code",
   "execution_count": 87,
   "metadata": {},
   "outputs": [
    {
     "data": {
      "text/plain": [
       "34"
      ]
     },
     "execution_count": 87,
     "metadata": {},
     "output_type": "execute_result"
    }
   ],
   "source": [
    "class MyStatus:\n",
    "    def __init__(self,age,name,height,weight):\n",
    "        self.age = age\n",
    "        self.name = name\n",
    "        self.height = height\n",
    "        self.weight = weight\n",
    "\n",
    "    def print_name(self):\n",
    "        print(self.name)\n",
    "\n",
    "    def print_age(self):\n",
    "        print(self.age)\n",
    "\n",
    "    def print_height(self):\n",
    "        print(self.height)\n",
    "\n",
    "    def print_weight(self):\n",
    "        print(self.weight)\n",
    "\n",
    "a = MyStatus(34,\"yamada\",170,78)\n",
    "a.age"
   ]
  },
  {
   "attachments": {},
   "cell_type": "markdown",
   "metadata": {},
   "source": [
    "## 크롤링"
   ]
  },
  {
   "cell_type": "code",
   "execution_count": 89,
   "metadata": {},
   "outputs": [
    {
     "name": "stdout",
     "output_type": "stream",
     "text": [
      "Collecting selenium\n",
      "  Downloading selenium-4.9.1-py3-none-any.whl (6.6 MB)\n",
      "     ---------------------------------------- 0.0/6.6 MB ? eta -:--:--\n",
      "     ------ --------------------------------- 1.0/6.6 MB 20.7 MB/s eta 0:00:01\n",
      "     ----------------------- ---------------- 3.9/6.6 MB 41.5 MB/s eta 0:00:01\n",
      "     ---------------------------------------  6.5/6.6 MB 52.3 MB/s eta 0:00:01\n",
      "     ---------------------------------------- 6.6/6.6 MB 46.4 MB/s eta 0:00:00\n",
      "Requirement already satisfied: urllib3[socks]<3,>=1.26 in c:\\users\\user\\miniconda3\\envs\\py\\lib\\site-packages (from selenium) (1.26.15)\n",
      "Collecting trio~=0.17\n",
      "  Downloading trio-0.22.0-py3-none-any.whl (384 kB)\n",
      "     ---------------------------------------- 0.0/384.9 kB ? eta -:--:--\n",
      "     ---------------------------------------- 384.9/384.9 kB ? eta 0:00:00\n",
      "Collecting trio-websocket~=0.9\n",
      "  Downloading trio_websocket-0.10.2-py3-none-any.whl (17 kB)\n",
      "Requirement already satisfied: certifi>=2021.10.8 in c:\\users\\user\\miniconda3\\envs\\py\\lib\\site-packages (from selenium) (2023.5.7)\n",
      "Requirement already satisfied: attrs>=19.2.0 in c:\\users\\user\\miniconda3\\envs\\py\\lib\\site-packages (from trio~=0.17->selenium) (22.1.0)\n",
      "Collecting sortedcontainers\n",
      "  Downloading sortedcontainers-2.4.0-py2.py3-none-any.whl (29 kB)\n",
      "Collecting async-generator>=1.9\n",
      "  Downloading async_generator-1.10-py3-none-any.whl (18 kB)\n",
      "Requirement already satisfied: idna in c:\\users\\user\\miniconda3\\envs\\py\\lib\\site-packages (from trio~=0.17->selenium) (3.4)\n",
      "Collecting outcome\n",
      "  Downloading outcome-1.2.0-py2.py3-none-any.whl (9.7 kB)\n",
      "Requirement already satisfied: sniffio in c:\\users\\user\\miniconda3\\envs\\py\\lib\\site-packages (from trio~=0.17->selenium) (1.2.0)\n",
      "Requirement already satisfied: cffi>=1.14 in c:\\users\\user\\miniconda3\\envs\\py\\lib\\site-packages (from trio~=0.17->selenium) (1.15.1)\n",
      "Collecting exceptiongroup\n",
      "  Downloading exceptiongroup-1.1.1-py3-none-any.whl (14 kB)\n",
      "Collecting wsproto>=0.14\n",
      "  Downloading wsproto-1.2.0-py3-none-any.whl (24 kB)\n",
      "Requirement already satisfied: PySocks!=1.5.7,<2.0,>=1.5.6 in c:\\users\\user\\miniconda3\\envs\\py\\lib\\site-packages (from urllib3[socks]<3,>=1.26->selenium) (1.7.1)\n",
      "Requirement already satisfied: pycparser in c:\\users\\user\\miniconda3\\envs\\py\\lib\\site-packages (from cffi>=1.14->trio~=0.17->selenium) (2.21)\n",
      "Collecting h11<1,>=0.9.0\n",
      "  Downloading h11-0.14.0-py3-none-any.whl (58 kB)\n",
      "     ---------------------------------------- 0.0/58.3 kB ? eta -:--:--\n",
      "     ---------------------------------------- 58.3/58.3 kB 3.2 MB/s eta 0:00:00\n",
      "Installing collected packages: sortedcontainers, outcome, h11, exceptiongroup, async-generator, wsproto, trio, trio-websocket, selenium\n",
      "Successfully installed async-generator-1.10 exceptiongroup-1.1.1 h11-0.14.0 outcome-1.2.0 selenium-4.9.1 sortedcontainers-2.4.0 trio-0.22.0 trio-websocket-0.10.2 wsproto-1.2.0\n",
      "Collecting webdriver-manager\n",
      "  Downloading webdriver_manager-3.8.6-py2.py3-none-any.whl (27 kB)\n",
      "Requirement already satisfied: requests in c:\\users\\user\\miniconda3\\envs\\py\\lib\\site-packages (from webdriver-manager) (2.29.0)\n",
      "Collecting python-dotenv\n",
      "  Downloading python_dotenv-1.0.0-py3-none-any.whl (19 kB)\n",
      "Collecting tqdm\n",
      "  Downloading tqdm-4.65.0-py3-none-any.whl (77 kB)\n",
      "     ---------------------------------------- 0.0/77.1 kB ? eta -:--:--\n",
      "     ---------------------------------------- 77.1/77.1 kB ? eta 0:00:00\n",
      "Requirement already satisfied: packaging in c:\\users\\user\\miniconda3\\envs\\py\\lib\\site-packages (from webdriver-manager) (23.0)\n",
      "Requirement already satisfied: charset-normalizer<4,>=2 in c:\\users\\user\\miniconda3\\envs\\py\\lib\\site-packages (from requests->webdriver-manager) (2.0.4)\n",
      "Requirement already satisfied: idna<4,>=2.5 in c:\\users\\user\\miniconda3\\envs\\py\\lib\\site-packages (from requests->webdriver-manager) (3.4)\n",
      "Requirement already satisfied: urllib3<1.27,>=1.21.1 in c:\\users\\user\\miniconda3\\envs\\py\\lib\\site-packages (from requests->webdriver-manager) (1.26.15)\n",
      "Requirement already satisfied: certifi>=2017.4.17 in c:\\users\\user\\miniconda3\\envs\\py\\lib\\site-packages (from requests->webdriver-manager) (2023.5.7)\n",
      "Requirement already satisfied: colorama in c:\\users\\user\\miniconda3\\envs\\py\\lib\\site-packages (from tqdm->webdriver-manager) (0.4.6)\n",
      "Installing collected packages: tqdm, python-dotenv, webdriver-manager\n",
      "Successfully installed python-dotenv-1.0.0 tqdm-4.65.0 webdriver-manager-3.8.6\n"
     ]
    }
   ],
   "source": [
    "!pip install selenium\n",
    "!pip install webdriver-manager"
   ]
  },
  {
   "cell_type": "code",
   "execution_count": 90,
   "metadata": {},
   "outputs": [],
   "source": [
    "#TODO:크롤링\n",
    "import sys\n",
    "import time\n",
    "from selenium import webdriver\n",
    "from selenium.webdriver import Keys\n",
    "from selenium.webdriver.common.by import By\n",
    "from selenium.webdriver.chrome.service import Service\n",
    "from webdriver_manager.chrome import  ChromeDriverManager\n",
    "from bs4 import  BeautifulSoup\n",
    "\n",
    "#크롭 웹드라이버 설치 및 설정\n",
    "chrome_options = webdriver.ChromeOptions()"
   ]
  },
  {
   "cell_type": "code",
   "execution_count": 97,
   "metadata": {},
   "outputs": [
    {
     "name": "stdout",
     "output_type": "stream",
     "text": [
      "new_height 4242\n",
      "10만큼 댓글 확보 완료\n",
      "페이지 스크롤 완료\n"
     ]
    }
   ],
   "source": [
    "#user로 보이기 위한 user_agent // 각자의 컴퓨터에 맞게 확인 필요\n",
    "user_agent = 'Mozilla/5.0 (Windows NT 10.0; Win64; x64) AppleWebKit/537.36 (KHTML, like Gecko) Chrome/113.0.0.0 Safari/537.36'\n",
    "chrome_options.add_argument('user_agent=' + user_agent)\n",
    "\n",
    "chrome_options.add_experimental_option('detach', True)\n",
    "driver = webdriver.Chrome(service=Service(ChromeDriverManager().install()), options=chrome_options)\n",
    "driver.maximize_window()\n",
    "\n",
    "# keyword 설정\n",
    "keyword = \"me at the zoo\"\n",
    "# 스크랩핑 할 댓글 수\n",
    "cnt = 10\n",
    "# 크롬 열기 및 주소 입력\n",
    "driver.get('https://www.youtube.com/results?search_query=' + keyword)\n",
    "driver.implicitly_wait(5) #로딩 시간 설정\n",
    "time.sleep(1)\n",
    "\n",
    "# //*[@id=\"thumbnail\"]/yt-image/img\n",
    "#영상 선택\n",
    "driver.find_element(By.XPATH, '//*[@id=\"thumbnail\"]/yt-image/img').click()\n",
    "\n",
    "driver.implicitly_wait(5)\n",
    "time.sleep(1)\n",
    "\n",
    "\n",
    "#영상 정지\n",
    "driver.find_element(By.XPATH, '//*[@id=\"movie_player\"]/div[30]/div[2]/div[1]/button').click()\n",
    "\n",
    "#끝까지 스크롤 내리기\n",
    "driver.find_element(By.CSS_SELECTOR, 'body').send_keys(Keys.END)\n",
    "time.sleep(1)\n",
    "\n",
    "\n",
    "#필요한 댓글 확를 위한 while문\n",
    "while True:\n",
    "    # 스크롤 전 현재 높이 저장\n",
    "    new_height = driver.execute_script('return document.documentElement.scrollHeight')\n",
    "    print('new_height', new_height)\n",
    "    time.sleep(1)\n",
    "\n",
    "    #while문 멈출지 확인\n",
    "    if cnt == -1: # 무한루프\n",
    "        driver.find_element(By.CSS_SELECTOR, 'body').send_keys(Keys.END)\n",
    "        time.sleep(1)\n",
    "\n",
    "        #스크롤 후 현재높이 저장\n",
    "        last_height = driver.execute_script('return document.documentElement.scrollHeight')\n",
    "        print('last_height', last_height)\n",
    "        time.sleep(1)\n",
    "\n",
    "        # 페이지 끝까지 스크롤 했는지 판단\n",
    "        if new_height == last_height:\n",
    "            break\n",
    "\n",
    "    else:\n",
    "        #페이지 읽기\n",
    "        html = driver.page_source\n",
    "        soup = BeautifulSoup(html, 'html.parser')\n",
    "        time.sleep(1)\n",
    "\n",
    "        #댓글 구역 추출하기\n",
    "        comments_section = soup.find_all('ytd-comment-thread-renderer', class_='ytd-item-section-renderer')\n",
    "\n",
    "        #while문 멈출지 확인\n",
    "        if cnt == -1: # 무한루프\n",
    "            driver.find_element(By.CSS_SELECTOR, 'body').send_keys(Keys.END)\n",
    "            time.sleep(1)\n",
    "\n",
    "            #스크롤 후 현재높이 저장\n",
    "            last_height = driver.execute_script('return document.documentElement.scrollHeight')\n",
    "            print('last_height', last_height)\n",
    "            time.sleep(1)\n",
    "\n",
    "            # 페이지 끝까지 스크롤 했는지 판단\n",
    "            if new_height == last_height:\n",
    "                break\n",
    "\n",
    "        else:\n",
    "            print(f'{cnt}만큼 댓글 확보 완료')\n",
    "            del comments_section[cnt:]\n",
    "            break\n",
    "            \n",
    "print('페이지 스크롤 완료')\n",
    "\n",
    "\n",
    "        \n"
   ]
  },
  {
   "cell_type": "code",
   "execution_count": 98,
   "metadata": {},
   "outputs": [
    {
     "name": "stdout",
     "output_type": "stream",
     "text": [
      "count: 10\n",
      "{username: usercomment} is\n",
      "{San Diego Zoo: We're so honored that the first ever YouTube video was filmed here!}\n",
      "{Alan Walker: Just got this piece of art recommended, never gets old!}\n",
      "{riversongstar ★: 18 years, and this has become one of the biggest video platforms. Thanks, Jawed.}\n",
      "{Ruvyzvat: I feel like the only proper dedication we could provide is to make this the most viewed video on the entire platform. Just the thought of those billions of videos all fighting for top spot and it was taken on a whim by the very first video that was only a test would be hilarious}\n",
      "{lord raiden: It may be a 19 second video but it was the first of almost millions of videos but it will always be the one that started a legend of a group of friends who if they saw what 18 years later raised something that would not only become a legend but also created a pillar on the internet}\n",
      "{Efe Çelebi: 18 years later and it is still as fresh as like it released yesterday. What a masterpiece}\n",
      "{PRO CAT YT: 18 years later and it is still as fresh as like it released yesterday . What a masterpiece}\n",
      "{Satori Graphics: And then a platform, an entire culture, was born.}\n",
      "{Skoomz.: Almost 2 decades in and it’s still getting recommended. Absolutely spectacular}\n",
      "{Kaxziel: 18 years!!! And still going strong. Loved seeing this in my recommended and watching it again. Nostalgia!}\n"
     ]
    }
   ],
   "source": [
    "username = []\n",
    "usercomment = []\n",
    "for item in comments_section:\n",
    "    try:\n",
    "        a = item.find('yt-formatted-string', id='text').get_text()\n",
    "        b = item.find('yt-formatted-string', id='content-text').get_text()\n",
    "    except:\n",
    "        a = item.find('a', id='author-text').get_text().strip()\n",
    "        b = item.find('yt-formatted-string', id='content-text').get_text()\n",
    "    username.append(a)\n",
    "    usercomment.append(b)\n",
    "\n",
    "# 확인\n",
    "print(f'count: {len(usercomment)}')\n",
    "print('{username: usercomment} is')\n",
    "for i, j in zip(username, usercomment):\n",
    "    print(f'{{{i}: {j}}}')\n"
   ]
  },
  {
   "cell_type": "code",
   "execution_count": null,
   "metadata": {},
   "outputs": [],
   "source": []
  }
 ],
 "metadata": {
  "kernelspec": {
   "display_name": "py",
   "language": "python",
   "name": "python3"
  },
  "language_info": {
   "codemirror_mode": {
    "name": "ipython",
    "version": 3
   },
   "file_extension": ".py",
   "mimetype": "text/x-python",
   "name": "python",
   "nbconvert_exporter": "python",
   "pygments_lexer": "ipython3",
   "version": "3.11.3"
  },
  "orig_nbformat": 4
 },
 "nbformat": 4,
 "nbformat_minor": 2
}

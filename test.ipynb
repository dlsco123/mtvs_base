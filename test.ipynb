{
 "cells": [
  {
   "cell_type": "code",
   "execution_count": 5,
   "metadata": {},
   "outputs": [],
   "source": [
    "class A:\n",
    "    def __init__(self):\n",
    "        self.기관 = \"집\"\n",
    "        self.장소 = \"강동구\"\n",
    "    def prn(self):\n",
    "        print(self.기관, self.장소)\n",
    "\n",
    "class B(A):\n",
    "    def p(self, 과정명='파이썬'):\n",
    "        if 과정명=='파이썬':\n",
    "            과정시간=100\n",
    "        else:\n",
    "            과정시간=50\n",
    "        print(self.기관, self.장소, 과정명, 과정시간)\n",
    "\n",
    "    def 증명(self, 학생이름, 과정='파이썬'):\n",
    "        시간=self.B(과정명)\n",
    "        print(self.기관, self.장소, 학생이름, 과정)"
   ]
  },
  {
   "cell_type": "code",
   "execution_count": 7,
   "metadata": {},
   "outputs": [
    {
     "name": "stdout",
     "output_type": "stream",
     "text": [
      "집 강동구 파이썬 100\n",
      "집 강동구 기기 50\n"
     ]
    },
    {
     "ename": "NameError",
     "evalue": "name '과정명' is not defined",
     "output_type": "error",
     "traceback": [
      "\u001b[1;31m---------------------------------------------------------------------------\u001b[0m",
      "\u001b[1;31mNameError\u001b[0m                                 Traceback (most recent call last)",
      "Cell \u001b[1;32mIn[7], line 3\u001b[0m\n\u001b[0;32m      1\u001b[0m my \u001b[39m=\u001b[39m B()\n\u001b[0;32m      2\u001b[0m my\u001b[39m.\u001b[39mp(), my\u001b[39m.\u001b[39mp(\u001b[39m'\u001b[39m\u001b[39m기기\u001b[39m\u001b[39m'\u001b[39m)\n\u001b[1;32m----> 3\u001b[0m my\u001b[39m.\u001b[39m증명(\u001b[39m'\u001b[39m\u001b[39m인채짱\u001b[39m\u001b[39m'\u001b[39m)\n",
      "Cell \u001b[1;32mIn[5], line 17\u001b[0m, in \u001b[0;36mB.증명\u001b[1;34m(self, 학생이름, 과정)\u001b[0m\n\u001b[0;32m     16\u001b[0m \u001b[39mdef\u001b[39;00m \u001b[39m증명\u001b[39m(\u001b[39mself\u001b[39m, 학생이름, 과정\u001b[39m=\u001b[39m\u001b[39m'\u001b[39m\u001b[39m파이썬\u001b[39m\u001b[39m'\u001b[39m):\n\u001b[1;32m---> 17\u001b[0m     시간\u001b[39m=\u001b[39m\u001b[39mself\u001b[39m\u001b[39m.\u001b[39mp(과정명)\n\u001b[0;32m     18\u001b[0m     \u001b[39mprint\u001b[39m(\u001b[39mself\u001b[39m\u001b[39m.\u001b[39m기관, \u001b[39mself\u001b[39m\u001b[39m.\u001b[39m장소, 학생이름, 과정)\n",
      "\u001b[1;31mNameError\u001b[0m: name '과정명' is not defined"
     ]
    }
   ],
   "source": [
    "my = B()\n",
    "my.p(), my.p('기기')\n",
    "my.증명('인채짱')"
   ]
  }
 ],
 "metadata": {
  "kernelspec": {
   "display_name": "py",
   "language": "python",
   "name": "python3"
  },
  "language_info": {
   "codemirror_mode": {
    "name": "ipython",
    "version": 3
   },
   "file_extension": ".py",
   "mimetype": "text/x-python",
   "name": "python",
   "nbconvert_exporter": "python",
   "pygments_lexer": "ipython3",
   "version": "3.11.3"
  },
  "orig_nbformat": 4
 },
 "nbformat": 4,
 "nbformat_minor": 2
}

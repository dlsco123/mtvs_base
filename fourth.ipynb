{
 "cells": [
  {
   "cell_type": "code",
   "execution_count": 2,
   "metadata": {},
   "outputs": [
    {
     "name": "stdout",
     "output_type": "stream",
     "text": [
      "Requirement already satisfied: scikit-learn in c:\\users\\user\\miniconda3\\envs\\py\\lib\\site-packages (1.2.2)\n",
      "Requirement already satisfied: numpy>=1.17.3 in c:\\users\\user\\miniconda3\\envs\\py\\lib\\site-packages (from scikit-learn) (1.23.5)\n",
      "Requirement already satisfied: scipy>=1.3.2 in c:\\users\\user\\miniconda3\\envs\\py\\lib\\site-packages (from scikit-learn) (1.10.1)\n",
      "Requirement already satisfied: joblib>=1.1.1 in c:\\users\\user\\miniconda3\\envs\\py\\lib\\site-packages (from scikit-learn) (1.2.0)\n",
      "Requirement already satisfied: threadpoolctl>=2.0.0 in c:\\users\\user\\miniconda3\\envs\\py\\lib\\site-packages (from scikit-learn) (3.1.0)\n"
     ]
    }
   ],
   "source": [
    "!pip install scikit-learn"
   ]
  },
  {
   "cell_type": "code",
   "execution_count": 7,
   "metadata": {},
   "outputs": [
    {
     "name": "stdout",
     "output_type": "stream",
     "text": [
      "Name: scikit-learn\n",
      "Version: 1.2.2\n",
      "Summary: A set of python modules for machine learning and data mining\n",
      "Home-page: http://scikit-learn.org\n",
      "Author: \n",
      "Author-email: \n",
      "License: new BSD\n",
      "Location: C:\\Users\\user\\miniconda3\\envs\\py\\Lib\\site-packages\n",
      "Requires: joblib, numpy, scipy, threadpoolctl\n",
      "Required-by: \n"
     ]
    }
   ],
   "source": [
    "!pip show scikit-learn"
   ]
  },
  {
   "cell_type": "code",
   "execution_count": 11,
   "metadata": {},
   "outputs": [
    {
     "name": "stdout",
     "output_type": "stream",
     "text": [
      "Collecting openpyxl\n",
      "  Downloading openpyxl-3.1.2-py2.py3-none-any.whl (249 kB)\n",
      "     ---------------------------------------- 0.0/250.0 kB ? eta -:--:--\n",
      "     ----------------------------- -------- 194.6/250.0 kB 4.0 MB/s eta 0:00:01\n",
      "     -------------------------------------- 250.0/250.0 kB 3.9 MB/s eta 0:00:00\n",
      "Collecting et-xmlfile\n",
      "  Downloading et_xmlfile-1.1.0-py3-none-any.whl (4.7 kB)\n",
      "Installing collected packages: et-xmlfile, openpyxl\n",
      "Successfully installed et-xmlfile-1.1.0 openpyxl-3.1.2\n"
     ]
    }
   ],
   "source": [
    "!pip install openpyxl"
   ]
  },
  {
   "cell_type": "code",
   "execution_count": 24,
   "metadata": {},
   "outputs": [],
   "source": [
    "import pandas as pd\n",
    "from sklearn.linear_model import LinearRegression\n",
    "import numpy as np\n",
    "\n",
    "##########데이터 로드\n",
    "\n",
    "train_df = pd.read_excel('https://github.com/cranberryai/todak_todak_python/blob/master/machine_learning/regression/%E1%84%8B%E1%85%A1%E1%84%87%E1%85%A5%E1%84%8C%E1%85%B5%E1%84%8B%E1%85%A1%E1%84%83%E1%85%B3%E1%86%AF%E1%84%8F%E1%85%B5.xlsx?raw=true', sheet_name='train')\n",
    "test_df = pd.read_excel('https://github.com/cranberryai/todak_todak_python/blob/master/machine_learning/regression/%E1%84%8B%E1%85%A1%E1%84%87%E1%85%A5%E1%84%8C%E1%85%B5%E1%84%8B%E1%85%A1%E1%84%83%E1%85%B3%E1%86%AF%E1%84%8F%E1%85%B5.xlsx?raw=true', sheet_name='test')"
   ]
  },
  {
   "cell_type": "code",
   "execution_count": 25,
   "metadata": {},
   "outputs": [],
   "source": [
    "x_train = train_df.drop(['Son'], axis=1)    #train_df['Father']\n",
    "x_test = test_df.drop(['Son'], axis=1)\n",
    "y_train = train_df['Son']\n",
    "y_test = test_df['Son']"
   ]
  },
  {
   "cell_type": "code",
   "execution_count": 26,
   "metadata": {},
   "outputs": [],
   "source": [
    "x_train = x_train.to_numpy()                # x_train.values\n",
    "x_test = x_test.to_numpy()"
   ]
  },
  {
   "cell_type": "code",
   "execution_count": null,
   "metadata": {},
   "outputs": [],
   "source": []
  },
  {
   "attachments": {},
   "cell_type": "markdown",
   "metadata": {},
   "source": [
    "### 아버지의 키를 입력하면 아들의 키를 예측\n",
    "### 가장 단순한 선형회귀 사용"
   ]
  },
  {
   "cell_type": "code",
   "execution_count": 31,
   "metadata": {},
   "outputs": [
    {
     "data": {
      "text/html": [
       "<style>#sk-container-id-1 {color: black;background-color: white;}#sk-container-id-1 pre{padding: 0;}#sk-container-id-1 div.sk-toggleable {background-color: white;}#sk-container-id-1 label.sk-toggleable__label {cursor: pointer;display: block;width: 100%;margin-bottom: 0;padding: 0.3em;box-sizing: border-box;text-align: center;}#sk-container-id-1 label.sk-toggleable__label-arrow:before {content: \"▸\";float: left;margin-right: 0.25em;color: #696969;}#sk-container-id-1 label.sk-toggleable__label-arrow:hover:before {color: black;}#sk-container-id-1 div.sk-estimator:hover label.sk-toggleable__label-arrow:before {color: black;}#sk-container-id-1 div.sk-toggleable__content {max-height: 0;max-width: 0;overflow: hidden;text-align: left;background-color: #f0f8ff;}#sk-container-id-1 div.sk-toggleable__content pre {margin: 0.2em;color: black;border-radius: 0.25em;background-color: #f0f8ff;}#sk-container-id-1 input.sk-toggleable__control:checked~div.sk-toggleable__content {max-height: 200px;max-width: 100%;overflow: auto;}#sk-container-id-1 input.sk-toggleable__control:checked~label.sk-toggleable__label-arrow:before {content: \"▾\";}#sk-container-id-1 div.sk-estimator input.sk-toggleable__control:checked~label.sk-toggleable__label {background-color: #d4ebff;}#sk-container-id-1 div.sk-label input.sk-toggleable__control:checked~label.sk-toggleable__label {background-color: #d4ebff;}#sk-container-id-1 input.sk-hidden--visually {border: 0;clip: rect(1px 1px 1px 1px);clip: rect(1px, 1px, 1px, 1px);height: 1px;margin: -1px;overflow: hidden;padding: 0;position: absolute;width: 1px;}#sk-container-id-1 div.sk-estimator {font-family: monospace;background-color: #f0f8ff;border: 1px dotted black;border-radius: 0.25em;box-sizing: border-box;margin-bottom: 0.5em;}#sk-container-id-1 div.sk-estimator:hover {background-color: #d4ebff;}#sk-container-id-1 div.sk-parallel-item::after {content: \"\";width: 100%;border-bottom: 1px solid gray;flex-grow: 1;}#sk-container-id-1 div.sk-label:hover label.sk-toggleable__label {background-color: #d4ebff;}#sk-container-id-1 div.sk-serial::before {content: \"\";position: absolute;border-left: 1px solid gray;box-sizing: border-box;top: 0;bottom: 0;left: 50%;z-index: 0;}#sk-container-id-1 div.sk-serial {display: flex;flex-direction: column;align-items: center;background-color: white;padding-right: 0.2em;padding-left: 0.2em;position: relative;}#sk-container-id-1 div.sk-item {position: relative;z-index: 1;}#sk-container-id-1 div.sk-parallel {display: flex;align-items: stretch;justify-content: center;background-color: white;position: relative;}#sk-container-id-1 div.sk-item::before, #sk-container-id-1 div.sk-parallel-item::before {content: \"\";position: absolute;border-left: 1px solid gray;box-sizing: border-box;top: 0;bottom: 0;left: 50%;z-index: -1;}#sk-container-id-1 div.sk-parallel-item {display: flex;flex-direction: column;z-index: 1;position: relative;background-color: white;}#sk-container-id-1 div.sk-parallel-item:first-child::after {align-self: flex-end;width: 50%;}#sk-container-id-1 div.sk-parallel-item:last-child::after {align-self: flex-start;width: 50%;}#sk-container-id-1 div.sk-parallel-item:only-child::after {width: 0;}#sk-container-id-1 div.sk-dashed-wrapped {border: 1px dashed gray;margin: 0 0.4em 0.5em 0.4em;box-sizing: border-box;padding-bottom: 0.4em;background-color: white;}#sk-container-id-1 div.sk-label label {font-family: monospace;font-weight: bold;display: inline-block;line-height: 1.2em;}#sk-container-id-1 div.sk-label-container {text-align: center;}#sk-container-id-1 div.sk-container {/* jupyter's `normalize.less` sets `[hidden] { display: none; }` but bootstrap.min.css set `[hidden] { display: none !important; }` so we also need the `!important` here to be able to override the default hidden behavior on the sphinx rendered scikit-learn.org. See: https://github.com/scikit-learn/scikit-learn/issues/21755 */display: inline-block !important;position: relative;}#sk-container-id-1 div.sk-text-repr-fallback {display: none;}</style><div id=\"sk-container-id-1\" class=\"sk-top-container\"><div class=\"sk-text-repr-fallback\"><pre>LinearRegression()</pre><b>In a Jupyter environment, please rerun this cell to show the HTML representation or trust the notebook. <br />On GitHub, the HTML representation is unable to render, please try loading this page with nbviewer.org.</b></div><div class=\"sk-container\" hidden><div class=\"sk-item\"><div class=\"sk-estimator sk-toggleable\"><input class=\"sk-toggleable__control sk-hidden--visually\" id=\"sk-estimator-id-1\" type=\"checkbox\" checked><label for=\"sk-estimator-id-1\" class=\"sk-toggleable__label sk-toggleable__label-arrow\">LinearRegression</label><div class=\"sk-toggleable__content\"><pre>LinearRegression()</pre></div></div></div></div></div>"
      ],
      "text/plain": [
       "LinearRegression()"
      ]
     },
     "execution_count": 31,
     "metadata": {},
     "output_type": "execute_result"
    }
   ],
   "source": [
    "from sklearn.linear_model import LinearRegression   #wx+b공식을 제공하는 estimator\n",
    "\n",
    "\n",
    "model=LinearRegression()\n",
    "model.fit(x_train, y_train)"
   ]
  },
  {
   "cell_type": "code",
   "execution_count": 37,
   "metadata": {},
   "outputs": [
    {
     "data": {
      "text/plain": [
       "(array([0.51820601]), 85.30837062148483)"
      ]
     },
     "execution_count": 37,
     "metadata": {},
     "output_type": "execute_result"
    }
   ],
   "source": [
    "model.coef_, model.intercept_"
   ]
  },
  {
   "attachments": {},
   "cell_type": "markdown",
   "metadata": {},
   "source": [
    "#### 트레이닝 자료값의 오차가 작아야, w,b를 사용할 수 있음\n",
    "#### 훈련자료의 오차를 확인\n",
    "### 오차의 종류(MSE)\n",
    "#### 1번 = y_train 값 - (x_train*model.coef_+model.intercept_)\n",
    "##### 2번 = 각각 항목을 1번의 제곱근으로 작업 후, 더한 뒤 평균을 낸다"
   ]
  },
  {
   "cell_type": "code",
   "execution_count": 39,
   "metadata": {},
   "outputs": [
    {
     "name": "stdout",
     "output_type": "stream",
     "text": [
      "0.25199779058466176\n"
     ]
    }
   ],
   "source": [
    "print(model.score(x_test, y_test)) # R2제곱(회귀공식에서만사용)이라는 공식, 1에 가까울 수록 좋다."
   ]
  },
  {
   "cell_type": "code",
   "execution_count": 40,
   "metadata": {},
   "outputs": [
    {
     "data": {
      "text/plain": [
       "array([168.62656977, 171.39068065, 171.12743199, 173.23342123,\n",
       "       176.78727806, 170.46931036, 171.6539293 , 174.68128883,\n",
       "       176.65565374, 167.44195083, 170.2060617 , 169.41631574,\n",
       "       171.39068065, 175.73428345, 171.91717796, 171.91717796,\n",
       "       172.97017257, 175.07616181, 174.5496645 , 173.36504556,\n",
       "       173.62829421, 174.41804017, 175.20778614, 175.73428345,\n",
       "       176.26078076, 176.91890239, 177.97189701, 179.02489163,\n",
       "       181.7890025 , 170.33768603, 172.70692392, 171.78555363,\n",
       "       172.31205094, 172.97017257, 175.47103479, 176.39240508,\n",
       "       175.60265912, 177.97189701, 184.02661606, 172.04880228,\n",
       "       174.94453748, 177.70864836, 177.31377537, 177.97189701,\n",
       "       180.20951057, 184.55311337, 171.6539293 , 176.12915643,\n",
       "       177.05052672, 179.02489163, 181.39412952, 174.02316719,\n",
       "       173.89154287, 175.73428345, 175.86590777, 177.31377537,\n",
       "       179.94626192, 174.68128883, 181.92062683, 177.31377537,\n",
       "       176.78727806, 174.81291316, 166.65220487, 170.73255901,\n",
       "       166.65220487, 169.94281305, 171.6539293 , 172.44367527,\n",
       "       174.68128883, 179.02489163, 167.44195083, 168.10007247,\n",
       "       171.39068065, 175.73428345, 169.94281305, 172.31205094,\n",
       "       172.70692392, 173.89154287, 173.89154287, 174.02316719,\n",
       "       176.65565374, 176.52402941, 178.23514566, 168.49494545,\n",
       "       170.33768603, 170.73255901, 174.28641585, 175.20778614,\n",
       "       176.12915643, 176.52402941, 175.9975321 , 180.60438356,\n",
       "       170.2060617 , 171.91717796, 173.23342123, 174.28641585,\n",
       "       177.4453997 , 177.84027268, 179.15651596, 172.57529959,\n",
       "       173.1017969 , 175.86590777, 178.10352134, 178.76164297,\n",
       "       179.41976461, 179.55138894, 169.41631574, 172.18042661,\n",
       "       174.15479152, 174.41804017, 175.33941047, 176.26078076,\n",
       "       176.91890239, 178.63001865, 174.5496645 , 176.91890239,\n",
       "       177.57702403, 179.15651596, 176.26078076, 177.05052672,\n",
       "       181.13088086, 174.94453748, 179.15651596, 179.02489163,\n",
       "       168.36332112, 165.59921025, 171.12743199, 174.28641585,\n",
       "       164.54621563, 171.12743199, 170.60093468, 172.44367527,\n",
       "       172.97017257, 167.04707785, 168.49494545, 169.28469141,\n",
       "       170.33768603, 171.78555363, 169.94281305, 169.15306708,\n",
       "       170.33768603, 172.31205094, 172.04880228, 173.49666988,\n",
       "       174.02316719, 174.02316719, 176.26078076, 166.25733188,\n",
       "       169.67956439, 172.57529959, 175.60265912, 177.70864836,\n",
       "       179.94626192, 172.97017257, 174.02316719, 173.75991854,\n",
       "       175.07616181, 176.91890239, 177.18215105, 177.70864836,\n",
       "       179.81463759, 171.12743199, 173.1017969 , 173.75991854,\n",
       "       174.68128883, 177.4453997 , 177.70864836, 180.47275923,\n",
       "       170.07443737, 170.73255901, 171.91717796, 174.02316719,\n",
       "       174.68128883, 175.47103479, 174.28641585, 176.65565374,\n",
       "       176.52402941, 176.78727806, 180.60438356, 175.07616181,\n",
       "       176.39240508, 177.57702403, 178.76164297, 180.07788625,\n",
       "       174.81291316, 176.12915643, 176.91890239, 179.02489163,\n",
       "       180.07788625, 182.05225116, 165.46758592, 170.73255901,\n",
       "       167.44195083, 169.02144276, 171.39068065, 169.67956439,\n",
       "       172.57529959, 165.99408323, 169.67956439, 170.33768603,\n",
       "       172.83854825, 173.89154287, 170.2060617 , 172.04880228,\n",
       "       172.04880228, 174.02316719, 174.81291316, 175.33941047,\n",
       "       176.78727806, 169.94281305, 172.44367527, 172.04880228,\n",
       "       173.49666988, 174.15479152, 174.41804017, 174.94453748,\n",
       "       176.12915643, 176.39240508, 176.52402941, 176.91890239,\n",
       "       177.31377537, 178.23514566, 168.62656977, 173.36504556,\n",
       "       174.5496645 , 175.33941047, 175.20778614, 176.52402941,\n",
       "       175.86590777, 177.84027268, 180.07788625, 170.73255901,\n",
       "       171.78555363, 172.31205094, 174.28641585, 175.07616181,\n",
       "       174.94453748, 176.39240508, 178.10352134, 179.02489163,\n",
       "       178.10352134, 180.60438356, 173.62829421, 175.20778614,\n",
       "       175.33941047, 176.12915643, 177.70864836, 178.36676999,\n",
       "       180.60438356, 176.39240508, 177.70864836, 178.76164297,\n",
       "       179.81463759, 178.10352134, 174.5496645 , 177.31377537,\n",
       "       180.99925654, 172.18042661, 179.41976461, 174.94453748,\n",
       "       171.25905632, 177.97189701, 166.78382919, 169.15306708,\n",
       "       169.67956439, 170.99580767, 172.18042661, 173.1017969 ,\n",
       "       178.49839432, 171.52230497, 170.46931036, 174.15479152,\n",
       "       176.65565374, 173.1017969 , 174.15479152, 175.60265912,\n",
       "       177.18215105, 178.10352134, 170.07443737, 170.46931036,\n",
       "       171.91717796, 173.23342123, 173.75991854, 175.20778614,\n",
       "       175.20778614, 175.47103479, 176.39240508, 176.65565374,\n",
       "       178.10352134, 179.15651596, 180.47275923, 168.10007247,\n",
       "       172.04880228, 174.28641585, 176.52402941, 176.12915643,\n",
       "       175.9975321 , 178.10352134, 180.99925654, 171.25905632,\n",
       "       172.04880228, 173.62829421, 173.36504556, 174.41804017,\n",
       "       175.60265912, 176.26078076, 178.10352134, 177.4453997 ,\n",
       "       170.86418334, 174.94453748, 177.4453997 , 177.84027268,\n",
       "       174.81291316, 177.70864836, 178.49839432, 173.75991854,\n",
       "       179.28814028, 171.52230497, 180.3411349 , 168.49494545,\n",
       "       174.41804017, 173.49666988, 179.81463759])"
      ]
     },
     "execution_count": 40,
     "metadata": {},
     "output_type": "execute_result"
    }
   ],
   "source": [
    "## 위의 자료가 잘 되었다면, w,b값이 잘 fit되어 스코어 값이 좋다면\n",
    "### 테스트자료에 사용\n",
    "#### 스코어 값에서 확인 or 다른 방법으로 확인 하든 결과 값이 좋으면\n",
    "#### 기존의 y값과 비교가 가능하므로, y값이 존재하지 않는 자료에 넣어서 사용\n",
    "model.predict(x_test)"
   ]
  },
  {
   "cell_type": "code",
   "execution_count": 35,
   "metadata": {},
   "outputs": [
    {
     "data": {
      "text/plain": [
       "(array([168.62656977]), array([145.48038001]))"
      ]
     },
     "execution_count": 35,
     "metadata": {},
     "output_type": "execute_result"
    }
   ],
   "source": [
    "test1_ypredict=160.782*model.coef_+model.intercept_\n",
    "test2_ypredict=116.116*model.coef_+model.intercept_\n",
    "test1_ypredict, test2_ypredict"
   ]
  },
  {
   "cell_type": "code",
   "execution_count": 41,
   "metadata": {},
   "outputs": [
    {
     "data": {
      "text/plain": [
       "array([168.62656977, 171.39068065, 171.12743199, 173.23342123,\n",
       "       176.78727806, 170.46931036, 171.6539293 , 174.68128883,\n",
       "       176.65565374, 167.44195083, 170.2060617 , 169.41631574,\n",
       "       171.39068065, 175.73428345, 171.91717796, 171.91717796,\n",
       "       172.97017257, 175.07616181, 174.5496645 , 173.36504556,\n",
       "       173.62829421, 174.41804017, 175.20778614, 175.73428345,\n",
       "       176.26078076, 176.91890239, 177.97189701, 179.02489163,\n",
       "       181.7890025 , 170.33768603, 172.70692392, 171.78555363,\n",
       "       172.31205094, 172.97017257, 175.47103479, 176.39240508,\n",
       "       175.60265912, 177.97189701, 184.02661606, 172.04880228,\n",
       "       174.94453748, 177.70864836, 177.31377537, 177.97189701,\n",
       "       180.20951057, 184.55311337, 171.6539293 , 176.12915643,\n",
       "       177.05052672, 179.02489163, 181.39412952, 174.02316719,\n",
       "       173.89154287, 175.73428345, 175.86590777, 177.31377537,\n",
       "       179.94626192, 174.68128883, 181.92062683, 177.31377537,\n",
       "       176.78727806, 174.81291316, 166.65220487, 170.73255901,\n",
       "       166.65220487, 169.94281305, 171.6539293 , 172.44367527,\n",
       "       174.68128883, 179.02489163, 167.44195083, 168.10007247,\n",
       "       171.39068065, 175.73428345, 169.94281305, 172.31205094,\n",
       "       172.70692392, 173.89154287, 173.89154287, 174.02316719,\n",
       "       176.65565374, 176.52402941, 178.23514566, 168.49494545,\n",
       "       170.33768603, 170.73255901, 174.28641585, 175.20778614,\n",
       "       176.12915643, 176.52402941, 175.9975321 , 180.60438356,\n",
       "       170.2060617 , 171.91717796, 173.23342123, 174.28641585,\n",
       "       177.4453997 , 177.84027268, 179.15651596, 172.57529959,\n",
       "       173.1017969 , 175.86590777, 178.10352134, 178.76164297,\n",
       "       179.41976461, 179.55138894, 169.41631574, 172.18042661,\n",
       "       174.15479152, 174.41804017, 175.33941047, 176.26078076,\n",
       "       176.91890239, 178.63001865, 174.5496645 , 176.91890239,\n",
       "       177.57702403, 179.15651596, 176.26078076, 177.05052672,\n",
       "       181.13088086, 174.94453748, 179.15651596, 179.02489163,\n",
       "       168.36332112, 165.59921025, 171.12743199, 174.28641585,\n",
       "       164.54621563, 171.12743199, 170.60093468, 172.44367527,\n",
       "       172.97017257, 167.04707785, 168.49494545, 169.28469141,\n",
       "       170.33768603, 171.78555363, 169.94281305, 169.15306708,\n",
       "       170.33768603, 172.31205094, 172.04880228, 173.49666988,\n",
       "       174.02316719, 174.02316719, 176.26078076, 166.25733188,\n",
       "       169.67956439, 172.57529959, 175.60265912, 177.70864836,\n",
       "       179.94626192, 172.97017257, 174.02316719, 173.75991854,\n",
       "       175.07616181, 176.91890239, 177.18215105, 177.70864836,\n",
       "       179.81463759, 171.12743199, 173.1017969 , 173.75991854,\n",
       "       174.68128883, 177.4453997 , 177.70864836, 180.47275923,\n",
       "       170.07443737, 170.73255901, 171.91717796, 174.02316719,\n",
       "       174.68128883, 175.47103479, 174.28641585, 176.65565374,\n",
       "       176.52402941, 176.78727806, 180.60438356, 175.07616181,\n",
       "       176.39240508, 177.57702403, 178.76164297, 180.07788625,\n",
       "       174.81291316, 176.12915643, 176.91890239, 179.02489163,\n",
       "       180.07788625, 182.05225116, 165.46758592, 170.73255901,\n",
       "       167.44195083, 169.02144276, 171.39068065, 169.67956439,\n",
       "       172.57529959, 165.99408323, 169.67956439, 170.33768603,\n",
       "       172.83854825, 173.89154287, 170.2060617 , 172.04880228,\n",
       "       172.04880228, 174.02316719, 174.81291316, 175.33941047,\n",
       "       176.78727806, 169.94281305, 172.44367527, 172.04880228,\n",
       "       173.49666988, 174.15479152, 174.41804017, 174.94453748,\n",
       "       176.12915643, 176.39240508, 176.52402941, 176.91890239,\n",
       "       177.31377537, 178.23514566, 168.62656977, 173.36504556,\n",
       "       174.5496645 , 175.33941047, 175.20778614, 176.52402941,\n",
       "       175.86590777, 177.84027268, 180.07788625, 170.73255901,\n",
       "       171.78555363, 172.31205094, 174.28641585, 175.07616181,\n",
       "       174.94453748, 176.39240508, 178.10352134, 179.02489163,\n",
       "       178.10352134, 180.60438356, 173.62829421, 175.20778614,\n",
       "       175.33941047, 176.12915643, 177.70864836, 178.36676999,\n",
       "       180.60438356, 176.39240508, 177.70864836, 178.76164297,\n",
       "       179.81463759, 178.10352134, 174.5496645 , 177.31377537,\n",
       "       180.99925654, 172.18042661, 179.41976461, 174.94453748,\n",
       "       171.25905632, 177.97189701, 166.78382919, 169.15306708,\n",
       "       169.67956439, 170.99580767, 172.18042661, 173.1017969 ,\n",
       "       178.49839432, 171.52230497, 170.46931036, 174.15479152,\n",
       "       176.65565374, 173.1017969 , 174.15479152, 175.60265912,\n",
       "       177.18215105, 178.10352134, 170.07443737, 170.46931036,\n",
       "       171.91717796, 173.23342123, 173.75991854, 175.20778614,\n",
       "       175.20778614, 175.47103479, 176.39240508, 176.65565374,\n",
       "       178.10352134, 179.15651596, 180.47275923, 168.10007247,\n",
       "       172.04880228, 174.28641585, 176.52402941, 176.12915643,\n",
       "       175.9975321 , 178.10352134, 180.99925654, 171.25905632,\n",
       "       172.04880228, 173.62829421, 173.36504556, 174.41804017,\n",
       "       175.60265912, 176.26078076, 178.10352134, 177.4453997 ,\n",
       "       170.86418334, 174.94453748, 177.4453997 , 177.84027268,\n",
       "       174.81291316, 177.70864836, 178.49839432, 173.75991854,\n",
       "       179.28814028, 171.52230497, 180.3411349 , 168.49494545,\n",
       "       174.41804017, 173.49666988, 179.81463759])"
      ]
     },
     "execution_count": 41,
     "metadata": {},
     "output_type": "execute_result"
    }
   ],
   "source": [
    "model.predict(x_test)"
   ]
  },
  {
   "cell_type": "code",
   "execution_count": 42,
   "metadata": {},
   "outputs": [],
   "source": [
    "import numpy as np\n",
    "from sklearn.model_selection import train_test_split\n",
    "from sklearn.linear_model import LogisticRegression\n",
    "\n",
    "##########데이터 로드\n",
    "\n",
    "x_data = np.array([\n",
    "    [2, 1],\n",
    "    [3, 2],\n",
    "    [3, 4],\n",
    "    [5, 5],\n",
    "    [7, 5],\n",
    "    [2, 5],\n",
    "    [8, 9],\n",
    "    [9, 10],\n",
    "    [6, 12],\n",
    "    [9, 2],\n",
    "    [6, 10],\n",
    "    [2, 4]\n",
    "])\n",
    "y_data = np.array([0, 0, 0, 1, 1, 0, 1, 1, 1, 1, 1, 0])\n",
    "\n",
    "labels = ['fail', 'pass']"
   ]
  },
  {
   "cell_type": "code",
   "execution_count": 82,
   "metadata": {},
   "outputs": [
    {
     "name": "stdout",
     "output_type": "stream",
     "text": [
      "[0.14726495 0.03377002] -0.3717131697471452\n",
      "0.1472649460838363 가중치\n",
      "-0.3717131697471452 bias\n"
     ]
    },
    {
     "data": {
      "text/plain": [
       "'\\nx0 결과 = x_data[0]*model.coef_[0]\\nx1 결과 = x_data[1]*model.coef[1]\\ny에측값 = x0결과 + x1결과 + model.intercept_\\n'"
      ]
     },
     "execution_count": 82,
     "metadata": {},
     "output_type": "execute_result"
    }
   ],
   "source": [
    "model=LinearRegression()\n",
    "model.fit(x_data, y_data)\n",
    "print(model.coef_,model.intercept_)\n",
    "\n",
    "#[2,1]의 예측값은?\n",
    "2*model.coef_[0]+1*model.coef_[1]+model.intercept_, model.predict(x_data)[0]\n",
    "\n",
    "x_data[:,0]\n",
    "print(model.coef_[0],\"가중치\")\n",
    "print(model.intercept_, \"bias\")\n",
    "\n",
    "\"\"\"\n",
    "x0 결과 = x_data[:,0]*model.coef_[0]\n",
    "x1 결과 = x_data[:,1]*model.coef_[1]\n",
    "y에측값 = x0결과 + x1결과 + model.intercept_\n",
    "\"\"\"\n",
    "\n"
   ]
  },
  {
   "cell_type": "code",
   "execution_count": 87,
   "metadata": {},
   "outputs": [
    {
     "name": "stdout",
     "output_type": "stream",
     "text": [
      "[-0.04341326  0.13762171  0.20516175  0.53346166  0.82799155  0.09166682\n",
      "  1.11033658  1.29137154  0.91711675  1.02121139  0.84957671  0.0578968 ]\n"
     ]
    }
   ],
   "source": [
    "print(model.predict(x_data))"
   ]
  },
  {
   "cell_type": "code",
   "execution_count": 102,
   "metadata": {},
   "outputs": [
    {
     "name": "stdout",
     "output_type": "stream",
     "text": [
      "데이터 단일값: ['a' 'b' 'c' 'd' 'e' 'f']\n",
      "단일값대비 데이터: [6 3 1 1 1 1]\n"
     ]
    },
    {
     "data": {
      "image/png": "[encoded data removed]",
      "text/plain": [
       "<Figure size 640x480 with 1 Axes>"
      ]
     },
     "metadata": {},
     "output_type": "display_data"
    },
    {
     "name": "stdout",
     "output_type": "stream",
     "text": [
      "a ==> 0.46153846153846156\n",
      "b ==> 0.23076923076923078\n",
      "c ==> 0.07692307692307693\n",
      "d ==> 0.07692307692307693\n",
      "e ==> 0.07692307692307693\n",
      "f ==> 0.07692307692307693\n"
     ]
    },
    {
     "data": {
      "image/png": "[encoded data removed]",
      "text/plain": [
       "<Figure size 640x480 with 1 Axes>"
      ]
     },
     "metadata": {},
     "output_type": "display_data"
    }
   ],
   "source": [
    "def un(y_data):\n",
    "    import numpy as np\n",
    "    import matplotlib.pyplot as plt\n",
    "    uniqueData = np.unique(y_data, return_counts=True)\n",
    "    print(\"데이터 단일값:\",uniqueData[0])\n",
    "    print(\"단일값대비 데이터:\",uniqueData[1])\n",
    "    plt.bar(uniqueData[0],uniqueData[1])\n",
    "    plt.show(0)\n",
    "\n",
    "    for x in range(len(uniqueData[0])):\n",
    "        print(uniqueData[0][x],\"==>\",uniqueData[1][x]/np.sum(uniqueData[1]))\n",
    "\n",
    "un(['a,b,a,b,a,b,a,a,c,a,d,e,f'.split(',')])\n"
   ]
  },
  {
   "attachments": {},
   "cell_type": "markdown",
   "metadata": {},
   "source": [
    "##### 훈련, 테스트 데이터 나누기 : 데이터 편향없이 잘 나눔, \"훈련자료에는 모든 클레스가 다 있어야함\"\n",
    "### train_test_split()"
   ]
  },
  {
   "cell_type": "code",
   "execution_count": 136,
   "metadata": {},
   "outputs": [
    {
     "data": {
      "text/plain": [
       "((array([0, 1]), array([4, 6], dtype=int64)),\n",
       " (array([0, 1]), array([1, 1], dtype=int64)))"
      ]
     },
     "execution_count": 136,
     "metadata": {},
     "output_type": "execute_result"
    }
   ],
   "source": [
    "x_train, x_test, y_train, y_test = train_test_split(x_data, y_data,\n",
    "                                                    test_size=0.1,\n",
    "                                                    random_state=777,\n",
    "                                                    stratify=y_data)\n",
    "np.unique(y_train, return_counts=True), np.unique(y_test,return_counts=True)"
   ]
  },
  {
   "cell_type": "code",
   "execution_count": 147,
   "metadata": {},
   "outputs": [
    {
     "name": "stdout",
     "output_type": "stream",
     "text": [
      "데이터 단일값: [0 1]\n",
      "단일값대비 데이터: [4 6]\n"
     ]
    },
    {
     "data": {
      "image/png": "[encoded data removed]",
      "text/plain": [
       "<Figure size 640x480 with 1 Axes>"
      ]
     },
     "metadata": {},
     "output_type": "display_data"
    },
    {
     "name": "stdout",
     "output_type": "stream",
     "text": [
      "0 ==> 0.4\n",
      "1 ==> 0.6\n"
     ]
    },
    {
     "data": {
      "image/png": "[encoded data removed]",
      "text/plain": [
       "<Figure size 640x480 with 1 Axes>"
      ]
     },
     "metadata": {},
     "output_type": "display_data"
    }
   ],
   "source": [
    "un(y_train)"
   ]
  },
  {
   "cell_type": "code",
   "execution_count": null,
   "metadata": {},
   "outputs": [],
   "source": []
  },
  {
   "cell_type": "code",
   "execution_count": 146,
   "metadata": {},
   "outputs": [
    {
     "name": "stderr",
     "output_type": "stream",
     "text": [
      "c:\\Users\\user\\miniconda3\\envs\\py\\Lib\\site-packages\\sklearn\\linear_model\\_logistic.py:1173: FutureWarning: `penalty='none'`has been deprecated in 1.2 and will be removed in 1.4. To keep the past behaviour, set `penalty=None`.\n",
      "  warnings.warn(\n"
     ]
    },
    {
     "data": {
      "text/plain": [
       "(array([ True]), array([10], dtype=int64))"
      ]
     },
     "execution_count": 146,
     "metadata": {},
     "output_type": "execute_result"
    }
   ],
   "source": [
    "model = LogisticRegression(penalty='none')\n",
    "model.fit(x_train, y_train)\n",
    "y_predict = model.predict(x_train)\n",
    "\n",
    "\n",
    "# 내가 직접 만드는 score값\n",
    "result = y_predict == y_train\n",
    "np.unique(result, return_counts=True)"
   ]
  },
  {
   "cell_type": "code",
   "execution_count": 151,
   "metadata": {},
   "outputs": [
    {
     "name": "stdout",
     "output_type": "stream",
     "text": [
      "     년식   종류    연비   마력    토크   연료  하이브리드   배기량    중량 변속기\n",
      "0  2015  준중형  11.8  172  21.0  가솔린      0  1999  1300  자동\n",
      "1  2015  준중형  12.3  204  27.0  가솔린      0  1591  1300  자동\n",
      "2  2015   소형  15.0  100  13.6  가솔린      0  1368  1035  수동\n",
      "3  2014   소형  14.0  140  17.0  가솔린      0  1591  1090  자동\n",
      "4  2015   대형   9.6  175  46.0   디젤      0  2497  1990  자동\n"
     ]
    }
   ],
   "source": [
    "import pandas as pd\n",
    "from sklearn.preprocessing import OneHotEncoder\n",
    "from sklearn.compose import make_column_transformer\n",
    "from sklearn.linear_model import Lasso\n",
    "import numpy as np\n",
    "\n",
    "##########데이터 로드\n",
    "\n",
    "train_df = pd.read_excel('https://github.com/cranberryai/todak_todak_python/blob/master/machine_learning/regression/carprice_E1SUl6b.xlsx?raw=true', sheet_name='train')\n",
    "test_df = pd.read_excel('https://github.com/cranberryai/todak_todak_python/blob/master/machine_learning/regression/carprice_E1SUl6b.xlsx?raw=true', sheet_name='test')\n",
    "\n",
    "##########데이터 분석\n",
    "\n",
    "##########데이터 전처리\n",
    "\n",
    "x_train = train_df.drop(['가격'], axis=1)\n",
    "x_test = test_df.drop(['가격'], axis=1)\n",
    "y_train = train_df['가격']\n",
    "y_test = test_df['가격']\n"
   ]
  },
  {
   "cell_type": "code",
   "execution_count": 150,
   "metadata": {},
   "outputs": [
    {
     "data": {
      "text/html": [
       "<div>\n",
       "<style scoped>\n",
       "    .dataframe tbody tr th:only-of-type {\n",
       "        vertical-align: middle;\n",
       "    }\n",
       "\n",
       "    .dataframe tbody tr th {\n",
       "        vertical-align: top;\n",
       "    }\n",
       "\n",
       "    .dataframe thead th {\n",
       "        text-align: right;\n",
       "    }\n",
       "</style>\n",
       "<table border=\"1\" class=\"dataframe\">\n",
       "  <thead>\n",
       "    <tr style=\"text-align: right;\">\n",
       "      <th></th>\n",
       "      <th>년식</th>\n",
       "      <th>종류</th>\n",
       "      <th>연비</th>\n",
       "      <th>마력</th>\n",
       "      <th>토크</th>\n",
       "      <th>연료</th>\n",
       "      <th>하이브리드</th>\n",
       "      <th>배기량</th>\n",
       "      <th>중량</th>\n",
       "      <th>변속기</th>\n",
       "    </tr>\n",
       "  </thead>\n",
       "  <tbody>\n",
       "    <tr>\n",
       "      <th>0</th>\n",
       "      <td>2015</td>\n",
       "      <td>준중형</td>\n",
       "      <td>11.8</td>\n",
       "      <td>172</td>\n",
       "      <td>21.0</td>\n",
       "      <td>가솔린</td>\n",
       "      <td>0</td>\n",
       "      <td>1999</td>\n",
       "      <td>1300</td>\n",
       "      <td>자동</td>\n",
       "    </tr>\n",
       "    <tr>\n",
       "      <th>1</th>\n",
       "      <td>2015</td>\n",
       "      <td>준중형</td>\n",
       "      <td>12.3</td>\n",
       "      <td>204</td>\n",
       "      <td>27.0</td>\n",
       "      <td>가솔린</td>\n",
       "      <td>0</td>\n",
       "      <td>1591</td>\n",
       "      <td>1300</td>\n",
       "      <td>자동</td>\n",
       "    </tr>\n",
       "    <tr>\n",
       "      <th>2</th>\n",
       "      <td>2015</td>\n",
       "      <td>소형</td>\n",
       "      <td>15.0</td>\n",
       "      <td>100</td>\n",
       "      <td>13.6</td>\n",
       "      <td>가솔린</td>\n",
       "      <td>0</td>\n",
       "      <td>1368</td>\n",
       "      <td>1035</td>\n",
       "      <td>수동</td>\n",
       "    </tr>\n",
       "    <tr>\n",
       "      <th>3</th>\n",
       "      <td>2014</td>\n",
       "      <td>소형</td>\n",
       "      <td>14.0</td>\n",
       "      <td>140</td>\n",
       "      <td>17.0</td>\n",
       "      <td>가솔린</td>\n",
       "      <td>0</td>\n",
       "      <td>1591</td>\n",
       "      <td>1090</td>\n",
       "      <td>자동</td>\n",
       "    </tr>\n",
       "    <tr>\n",
       "      <th>4</th>\n",
       "      <td>2015</td>\n",
       "      <td>대형</td>\n",
       "      <td>9.6</td>\n",
       "      <td>175</td>\n",
       "      <td>46.0</td>\n",
       "      <td>디젤</td>\n",
       "      <td>0</td>\n",
       "      <td>2497</td>\n",
       "      <td>1990</td>\n",
       "      <td>자동</td>\n",
       "    </tr>\n",
       "    <tr>\n",
       "      <th>...</th>\n",
       "      <td>...</td>\n",
       "      <td>...</td>\n",
       "      <td>...</td>\n",
       "      <td>...</td>\n",
       "      <td>...</td>\n",
       "      <td>...</td>\n",
       "      <td>...</td>\n",
       "      <td>...</td>\n",
       "      <td>...</td>\n",
       "      <td>...</td>\n",
       "    </tr>\n",
       "    <tr>\n",
       "      <th>66</th>\n",
       "      <td>2015</td>\n",
       "      <td>중형</td>\n",
       "      <td>8.5</td>\n",
       "      <td>290</td>\n",
       "      <td>34.8</td>\n",
       "      <td>가솔린</td>\n",
       "      <td>0</td>\n",
       "      <td>3342</td>\n",
       "      <td>1901</td>\n",
       "      <td>자동</td>\n",
       "    </tr>\n",
       "    <tr>\n",
       "      <th>67</th>\n",
       "      <td>2012</td>\n",
       "      <td>소형</td>\n",
       "      <td>13.3</td>\n",
       "      <td>108</td>\n",
       "      <td>13.9</td>\n",
       "      <td>가솔린</td>\n",
       "      <td>0</td>\n",
       "      <td>1396</td>\n",
       "      <td>1040</td>\n",
       "      <td>자동</td>\n",
       "    </tr>\n",
       "    <tr>\n",
       "      <th>68</th>\n",
       "      <td>2015</td>\n",
       "      <td>준중형</td>\n",
       "      <td>12.8</td>\n",
       "      <td>186</td>\n",
       "      <td>41.0</td>\n",
       "      <td>디젤</td>\n",
       "      <td>0</td>\n",
       "      <td>1995</td>\n",
       "      <td>1665</td>\n",
       "      <td>자동</td>\n",
       "    </tr>\n",
       "    <tr>\n",
       "      <th>69</th>\n",
       "      <td>2015</td>\n",
       "      <td>중형</td>\n",
       "      <td>17.7</td>\n",
       "      <td>156</td>\n",
       "      <td>19.3</td>\n",
       "      <td>가솔린</td>\n",
       "      <td>1</td>\n",
       "      <td>1999</td>\n",
       "      <td>1585</td>\n",
       "      <td>자동</td>\n",
       "    </tr>\n",
       "    <tr>\n",
       "      <th>70</th>\n",
       "      <td>2015</td>\n",
       "      <td>대형</td>\n",
       "      <td>13.8</td>\n",
       "      <td>202</td>\n",
       "      <td>45.0</td>\n",
       "      <td>디젤</td>\n",
       "      <td>0</td>\n",
       "      <td>2199</td>\n",
       "      <td>1691</td>\n",
       "      <td>자동</td>\n",
       "    </tr>\n",
       "  </tbody>\n",
       "</table>\n",
       "<p>71 rows × 10 columns</p>\n",
       "</div>"
      ],
      "text/plain": [
       "      년식   종류    연비   마력    토크   연료  하이브리드   배기량    중량 변속기\n",
       "0   2015  준중형  11.8  172  21.0  가솔린      0  1999  1300  자동\n",
       "1   2015  준중형  12.3  204  27.0  가솔린      0  1591  1300  자동\n",
       "2   2015   소형  15.0  100  13.6  가솔린      0  1368  1035  수동\n",
       "3   2014   소형  14.0  140  17.0  가솔린      0  1591  1090  자동\n",
       "4   2015   대형   9.6  175  46.0   디젤      0  2497  1990  자동\n",
       "..   ...  ...   ...  ...   ...  ...    ...   ...   ...  ..\n",
       "66  2015   중형   8.5  290  34.8  가솔린      0  3342  1901  자동\n",
       "67  2012   소형  13.3  108  13.9  가솔린      0  1396  1040  자동\n",
       "68  2015  준중형  12.8  186  41.0   디젤      0  1995  1665  자동\n",
       "69  2015   중형  17.7  156  19.3  가솔린      1  1999  1585  자동\n",
       "70  2015   대형  13.8  202  45.0   디젤      0  2199  1691  자동\n",
       "\n",
       "[71 rows x 10 columns]"
      ]
     },
     "execution_count": 150,
     "metadata": {},
     "output_type": "execute_result"
    }
   ],
   "source": [
    "x_train"
   ]
  }
 ],
 "metadata": {
  "kernelspec": {
   "display_name": "py",
   "language": "python",
   "name": "python3"
  },
  "language_info": {
   "codemirror_mode": {
    "name": "ipython",
    "version": 3
   },
   "file_extension": ".py",
   "mimetype": "text/x-python",
   "name": "python",
   "nbconvert_exporter": "python",
   "pygments_lexer": "ipython3",
   "version": "3.11.3"
  },
  "orig_nbformat": 4
 },
 "nbformat": 4,
 "nbformat_minor": 2
}

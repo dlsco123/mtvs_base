{
 "cells": [
  {
   "cell_type": "code",
   "execution_count": 1,
   "metadata": {},
   "outputs": [
    {
     "name": "stdout",
     "output_type": "stream",
     "text": [
      "Requirement already satisfied: scikit-learn in c:\\users\\user\\miniconda3\\envs\\py\\lib\\site-packages (1.2.2)\n",
      "Requirement already satisfied: numpy>=1.17.3 in c:\\users\\user\\miniconda3\\envs\\py\\lib\\site-packages (from scikit-learn) (1.23.5)\n",
      "Requirement already satisfied: scipy>=1.3.2 in c:\\users\\user\\miniconda3\\envs\\py\\lib\\site-packages (from scikit-learn) (1.10.1)\n",
      "Requirement already satisfied: joblib>=1.1.1 in c:\\users\\user\\miniconda3\\envs\\py\\lib\\site-packages (from scikit-learn) (1.2.0)\n",
      "Requirement already satisfied: threadpoolctl>=2.0.0 in c:\\users\\user\\miniconda3\\envs\\py\\lib\\site-packages (from scikit-learn) (3.1.0)\n"
     ]
    }
   ],
   "source": [
    "!pip install scikit-learn"
   ]
  },
  {
   "cell_type": "code",
   "execution_count": 7,
   "metadata": {},
   "outputs": [
    {
     "name": "stdout",
     "output_type": "stream",
     "text": [
      "Name: scikit-learn\n",
      "Version: 1.2.2\n",
      "Summary: A set of python modules for machine learning and data mining\n",
      "Home-page: http://scikit-learn.org\n",
      "Author: \n",
      "Author-email: \n",
      "License: new BSD\n",
      "Location: C:\\Users\\user\\miniconda3\\envs\\py\\Lib\\site-packages\n",
      "Requires: joblib, numpy, scipy, threadpoolctl\n",
      "Required-by: \n"
     ]
    }
   ],
   "source": [
    "!pip show scikit-learn"
   ]
  },
  {
   "cell_type": "code",
   "execution_count": 2,
   "metadata": {},
   "outputs": [
    {
     "name": "stdout",
     "output_type": "stream",
     "text": [
      "Requirement already satisfied: openpyxl in c:\\users\\user\\miniconda3\\envs\\py\\lib\\site-packages (3.1.2)\n",
      "Requirement already satisfied: et-xmlfile in c:\\users\\user\\miniconda3\\envs\\py\\lib\\site-packages (from openpyxl) (1.1.0)\n"
     ]
    }
   ],
   "source": [
    "!pip install openpyxl"
   ]
  },
  {
   "cell_type": "code",
   "execution_count": 3,
   "metadata": {},
   "outputs": [],
   "source": [
    "import pandas as pd\n",
    "from sklearn.linear_model import LinearRegression\n",
    "import numpy as np\n",
    "\n",
    "##########데이터 로드\n",
    "\n",
    "train_df = pd.read_excel('https://github.com/cranberryai/todak_todak_python/blob/master/machine_learning/regression/%E1%84%8B%E1%85%A1%E1%84%87%E1%85%A5%E1%84%8C%E1%85%B5%E1%84%8B%E1%85%A1%E1%84%83%E1%85%B3%E1%86%AF%E1%84%8F%E1%85%B5.xlsx?raw=true', sheet_name='train')\n",
    "test_df = pd.read_excel('https://github.com/cranberryai/todak_todak_python/blob/master/machine_learning/regression/%E1%84%8B%E1%85%A1%E1%84%87%E1%85%A5%E1%84%8C%E1%85%B5%E1%84%8B%E1%85%A1%E1%84%83%E1%85%B3%E1%86%AF%E1%84%8F%E1%85%B5.xlsx?raw=true', sheet_name='test')"
   ]
  },
  {
   "cell_type": "code",
   "execution_count": 4,
   "metadata": {},
   "outputs": [],
   "source": [
    "x_train = train_df.drop(['Son'], axis=1)    #train_df['Father']\n",
    "x_test = test_df.drop(['Son'], axis=1)\n",
    "y_train = train_df['Son']\n",
    "y_test = test_df['Son']"
   ]
  },
  {
   "cell_type": "code",
   "execution_count": 5,
   "metadata": {},
   "outputs": [],
   "source": [
    "x_train = x_train.to_numpy()                # x_train.values\n",
    "x_test = x_test.to_numpy()"
   ]
  },
  {
   "cell_type": "code",
   "execution_count": null,
   "metadata": {},
   "outputs": [],
   "source": []
  },
  {
   "attachments": {},
   "cell_type": "markdown",
   "metadata": {},
   "source": [
    "### 아버지의 키를 입력하면 아들의 키를 예측\n",
    "### 가장 단순한 선형회귀 사용"
   ]
  },
  {
   "cell_type": "code",
   "execution_count": 7,
   "metadata": {},
   "outputs": [
    {
     "data": {
      "text/html": [
       "<style>#sk-container-id-2 {color: black;background-color: white;}#sk-container-id-2 pre{padding: 0;}#sk-container-id-2 div.sk-toggleable {background-color: white;}#sk-container-id-2 label.sk-toggleable__label {cursor: pointer;display: block;width: 100%;margin-bottom: 0;padding: 0.3em;box-sizing: border-box;text-align: center;}#sk-container-id-2 label.sk-toggleable__label-arrow:before {content: \"▸\";float: left;margin-right: 0.25em;color: #696969;}#sk-container-id-2 label.sk-toggleable__label-arrow:hover:before {color: black;}#sk-container-id-2 div.sk-estimator:hover label.sk-toggleable__label-arrow:before {color: black;}#sk-container-id-2 div.sk-toggleable__content {max-height: 0;max-width: 0;overflow: hidden;text-align: left;background-color: #f0f8ff;}#sk-container-id-2 div.sk-toggleable__content pre {margin: 0.2em;color: black;border-radius: 0.25em;background-color: #f0f8ff;}#sk-container-id-2 input.sk-toggleable__control:checked~div.sk-toggleable__content {max-height: 200px;max-width: 100%;overflow: auto;}#sk-container-id-2 input.sk-toggleable__control:checked~label.sk-toggleable__label-arrow:before {content: \"▾\";}#sk-container-id-2 div.sk-estimator input.sk-toggleable__control:checked~label.sk-toggleable__label {background-color: #d4ebff;}#sk-container-id-2 div.sk-label input.sk-toggleable__control:checked~label.sk-toggleable__label {background-color: #d4ebff;}#sk-container-id-2 input.sk-hidden--visually {border: 0;clip: rect(1px 1px 1px 1px);clip: rect(1px, 1px, 1px, 1px);height: 1px;margin: -1px;overflow: hidden;padding: 0;position: absolute;width: 1px;}#sk-container-id-2 div.sk-estimator {font-family: monospace;background-color: #f0f8ff;border: 1px dotted black;border-radius: 0.25em;box-sizing: border-box;margin-bottom: 0.5em;}#sk-container-id-2 div.sk-estimator:hover {background-color: #d4ebff;}#sk-container-id-2 div.sk-parallel-item::after {content: \"\";width: 100%;border-bottom: 1px solid gray;flex-grow: 1;}#sk-container-id-2 div.sk-label:hover label.sk-toggleable__label {background-color: #d4ebff;}#sk-container-id-2 div.sk-serial::before {content: \"\";position: absolute;border-left: 1px solid gray;box-sizing: border-box;top: 0;bottom: 0;left: 50%;z-index: 0;}#sk-container-id-2 div.sk-serial {display: flex;flex-direction: column;align-items: center;background-color: white;padding-right: 0.2em;padding-left: 0.2em;position: relative;}#sk-container-id-2 div.sk-item {position: relative;z-index: 1;}#sk-container-id-2 div.sk-parallel {display: flex;align-items: stretch;justify-content: center;background-color: white;position: relative;}#sk-container-id-2 div.sk-item::before, #sk-container-id-2 div.sk-parallel-item::before {content: \"\";position: absolute;border-left: 1px solid gray;box-sizing: border-box;top: 0;bottom: 0;left: 50%;z-index: -1;}#sk-container-id-2 div.sk-parallel-item {display: flex;flex-direction: column;z-index: 1;position: relative;background-color: white;}#sk-container-id-2 div.sk-parallel-item:first-child::after {align-self: flex-end;width: 50%;}#sk-container-id-2 div.sk-parallel-item:last-child::after {align-self: flex-start;width: 50%;}#sk-container-id-2 div.sk-parallel-item:only-child::after {width: 0;}#sk-container-id-2 div.sk-dashed-wrapped {border: 1px dashed gray;margin: 0 0.4em 0.5em 0.4em;box-sizing: border-box;padding-bottom: 0.4em;background-color: white;}#sk-container-id-2 div.sk-label label {font-family: monospace;font-weight: bold;display: inline-block;line-height: 1.2em;}#sk-container-id-2 div.sk-label-container {text-align: center;}#sk-container-id-2 div.sk-container {/* jupyter's `normalize.less` sets `[hidden] { display: none; }` but bootstrap.min.css set `[hidden] { display: none !important; }` so we also need the `!important` here to be able to override the default hidden behavior on the sphinx rendered scikit-learn.org. See: https://github.com/scikit-learn/scikit-learn/issues/21755 */display: inline-block !important;position: relative;}#sk-container-id-2 div.sk-text-repr-fallback {display: none;}</style><div id=\"sk-container-id-2\" class=\"sk-top-container\"><div class=\"sk-text-repr-fallback\"><pre>LinearRegression()</pre><b>In a Jupyter environment, please rerun this cell to show the HTML representation or trust the notebook. <br />On GitHub, the HTML representation is unable to render, please try loading this page with nbviewer.org.</b></div><div class=\"sk-container\" hidden><div class=\"sk-item\"><div class=\"sk-estimator sk-toggleable\"><input class=\"sk-toggleable__control sk-hidden--visually\" id=\"sk-estimator-id-2\" type=\"checkbox\" checked><label for=\"sk-estimator-id-2\" class=\"sk-toggleable__label sk-toggleable__label-arrow\">LinearRegression</label><div class=\"sk-toggleable__content\"><pre>LinearRegression()</pre></div></div></div></div></div>"
      ],
      "text/plain": [
       "LinearRegression()"
      ]
     },
     "execution_count": 7,
     "metadata": {},
     "output_type": "execute_result"
    }
   ],
   "source": [
    "from sklearn.linear_model import LinearRegression   #wx+b공식을 제공하는 estimator\n",
    "\n",
    "\n",
    "model=LinearRegression()\n",
    "model.fit(x_train, y_train)"
   ]
  },
  {
   "cell_type": "code",
   "execution_count": 8,
   "metadata": {},
   "outputs": [
    {
     "data": {
      "text/plain": [
       "(array([0.51820601]), 85.30837062148483)"
      ]
     },
     "execution_count": 8,
     "metadata": {},
     "output_type": "execute_result"
    }
   ],
   "source": [
    "model.coef_, model.intercept_"
   ]
  },
  {
   "attachments": {},
   "cell_type": "markdown",
   "metadata": {},
   "source": [
    "#### 트레이닝 자료값의 오차가 작아야, w,b를 사용할 수 있음\n",
    "#### 훈련자료의 오차를 확인\n",
    "### 오차의 종류(MSE)\n",
    "#### 1번 = y_train 값 - (x_train*model.coef_+model.intercept_)\n",
    "##### 2번 = 각각 항목을 1번의 제곱근으로 작업 후, 더한 뒤 평균을 낸다"
   ]
  },
  {
   "cell_type": "code",
   "execution_count": 9,
   "metadata": {},
   "outputs": [
    {
     "name": "stdout",
     "output_type": "stream",
     "text": [
      "0.25199779058466176\n"
     ]
    }
   ],
   "source": [
    "print(model.score(x_test, y_test)) # R2제곱(회귀공식에서만사용)이라는 공식, 1에 가까울 수록 좋다."
   ]
  },
  {
   "cell_type": "code",
   "execution_count": 10,
   "metadata": {},
   "outputs": [
    {
     "data": {
      "text/plain": [
       "array([168.62656977, 171.39068065, 171.12743199, 173.23342123,\n",
       "       176.78727806, 170.46931036, 171.6539293 , 174.68128883,\n",
       "       176.65565374, 167.44195083, 170.2060617 , 169.41631574,\n",
       "       171.39068065, 175.73428345, 171.91717796, 171.91717796,\n",
       "       172.97017257, 175.07616181, 174.5496645 , 173.36504556,\n",
       "       173.62829421, 174.41804017, 175.20778614, 175.73428345,\n",
       "       176.26078076, 176.91890239, 177.97189701, 179.02489163,\n",
       "       181.7890025 , 170.33768603, 172.70692392, 171.78555363,\n",
       "       172.31205094, 172.97017257, 175.47103479, 176.39240508,\n",
       "       175.60265912, 177.97189701, 184.02661606, 172.04880228,\n",
       "       174.94453748, 177.70864836, 177.31377537, 177.97189701,\n",
       "       180.20951057, 184.55311337, 171.6539293 , 176.12915643,\n",
       "       177.05052672, 179.02489163, 181.39412952, 174.02316719,\n",
       "       173.89154287, 175.73428345, 175.86590777, 177.31377537,\n",
       "       179.94626192, 174.68128883, 181.92062683, 177.31377537,\n",
       "       176.78727806, 174.81291316, 166.65220487, 170.73255901,\n",
       "       166.65220487, 169.94281305, 171.6539293 , 172.44367527,\n",
       "       174.68128883, 179.02489163, 167.44195083, 168.10007247,\n",
       "       171.39068065, 175.73428345, 169.94281305, 172.31205094,\n",
       "       172.70692392, 173.89154287, 173.89154287, 174.02316719,\n",
       "       176.65565374, 176.52402941, 178.23514566, 168.49494545,\n",
       "       170.33768603, 170.73255901, 174.28641585, 175.20778614,\n",
       "       176.12915643, 176.52402941, 175.9975321 , 180.60438356,\n",
       "       170.2060617 , 171.91717796, 173.23342123, 174.28641585,\n",
       "       177.4453997 , 177.84027268, 179.15651596, 172.57529959,\n",
       "       173.1017969 , 175.86590777, 178.10352134, 178.76164297,\n",
       "       179.41976461, 179.55138894, 169.41631574, 172.18042661,\n",
       "       174.15479152, 174.41804017, 175.33941047, 176.26078076,\n",
       "       176.91890239, 178.63001865, 174.5496645 , 176.91890239,\n",
       "       177.57702403, 179.15651596, 176.26078076, 177.05052672,\n",
       "       181.13088086, 174.94453748, 179.15651596, 179.02489163,\n",
       "       168.36332112, 165.59921025, 171.12743199, 174.28641585,\n",
       "       164.54621563, 171.12743199, 170.60093468, 172.44367527,\n",
       "       172.97017257, 167.04707785, 168.49494545, 169.28469141,\n",
       "       170.33768603, 171.78555363, 169.94281305, 169.15306708,\n",
       "       170.33768603, 172.31205094, 172.04880228, 173.49666988,\n",
       "       174.02316719, 174.02316719, 176.26078076, 166.25733188,\n",
       "       169.67956439, 172.57529959, 175.60265912, 177.70864836,\n",
       "       179.94626192, 172.97017257, 174.02316719, 173.75991854,\n",
       "       175.07616181, 176.91890239, 177.18215105, 177.70864836,\n",
       "       179.81463759, 171.12743199, 173.1017969 , 173.75991854,\n",
       "       174.68128883, 177.4453997 , 177.70864836, 180.47275923,\n",
       "       170.07443737, 170.73255901, 171.91717796, 174.02316719,\n",
       "       174.68128883, 175.47103479, 174.28641585, 176.65565374,\n",
       "       176.52402941, 176.78727806, 180.60438356, 175.07616181,\n",
       "       176.39240508, 177.57702403, 178.76164297, 180.07788625,\n",
       "       174.81291316, 176.12915643, 176.91890239, 179.02489163,\n",
       "       180.07788625, 182.05225116, 165.46758592, 170.73255901,\n",
       "       167.44195083, 169.02144276, 171.39068065, 169.67956439,\n",
       "       172.57529959, 165.99408323, 169.67956439, 170.33768603,\n",
       "       172.83854825, 173.89154287, 170.2060617 , 172.04880228,\n",
       "       172.04880228, 174.02316719, 174.81291316, 175.33941047,\n",
       "       176.78727806, 169.94281305, 172.44367527, 172.04880228,\n",
       "       173.49666988, 174.15479152, 174.41804017, 174.94453748,\n",
       "       176.12915643, 176.39240508, 176.52402941, 176.91890239,\n",
       "       177.31377537, 178.23514566, 168.62656977, 173.36504556,\n",
       "       174.5496645 , 175.33941047, 175.20778614, 176.52402941,\n",
       "       175.86590777, 177.84027268, 180.07788625, 170.73255901,\n",
       "       171.78555363, 172.31205094, 174.28641585, 175.07616181,\n",
       "       174.94453748, 176.39240508, 178.10352134, 179.02489163,\n",
       "       178.10352134, 180.60438356, 173.62829421, 175.20778614,\n",
       "       175.33941047, 176.12915643, 177.70864836, 178.36676999,\n",
       "       180.60438356, 176.39240508, 177.70864836, 178.76164297,\n",
       "       179.81463759, 178.10352134, 174.5496645 , 177.31377537,\n",
       "       180.99925654, 172.18042661, 179.41976461, 174.94453748,\n",
       "       171.25905632, 177.97189701, 166.78382919, 169.15306708,\n",
       "       169.67956439, 170.99580767, 172.18042661, 173.1017969 ,\n",
       "       178.49839432, 171.52230497, 170.46931036, 174.15479152,\n",
       "       176.65565374, 173.1017969 , 174.15479152, 175.60265912,\n",
       "       177.18215105, 178.10352134, 170.07443737, 170.46931036,\n",
       "       171.91717796, 173.23342123, 173.75991854, 175.20778614,\n",
       "       175.20778614, 175.47103479, 176.39240508, 176.65565374,\n",
       "       178.10352134, 179.15651596, 180.47275923, 168.10007247,\n",
       "       172.04880228, 174.28641585, 176.52402941, 176.12915643,\n",
       "       175.9975321 , 178.10352134, 180.99925654, 171.25905632,\n",
       "       172.04880228, 173.62829421, 173.36504556, 174.41804017,\n",
       "       175.60265912, 176.26078076, 178.10352134, 177.4453997 ,\n",
       "       170.86418334, 174.94453748, 177.4453997 , 177.84027268,\n",
       "       174.81291316, 177.70864836, 178.49839432, 173.75991854,\n",
       "       179.28814028, 171.52230497, 180.3411349 , 168.49494545,\n",
       "       174.41804017, 173.49666988, 179.81463759])"
      ]
     },
     "execution_count": 10,
     "metadata": {},
     "output_type": "execute_result"
    }
   ],
   "source": [
    "## 위의 자료가 잘 되었다면, w,b값이 잘 fit되어 스코어 값이 좋다면\n",
    "### 테스트자료에 사용\n",
    "#### 스코어 값에서 확인 or 다른 방법으로 확인 하든 결과 값이 좋으면\n",
    "#### 기존의 y값과 비교가 가능하므로, y값이 존재하지 않는 자료에 넣어서 사용\n",
    "model.predict(x_test)"
   ]
  },
  {
   "cell_type": "code",
   "execution_count": 11,
   "metadata": {},
   "outputs": [
    {
     "data": {
      "text/plain": [
       "(array([168.62656977]), array([145.48038001]))"
      ]
     },
     "execution_count": 11,
     "metadata": {},
     "output_type": "execute_result"
    }
   ],
   "source": [
    "test1_ypredict=160.782*model.coef_+model.intercept_\n",
    "test2_ypredict=116.116*model.coef_+model.intercept_\n",
    "test1_ypredict, test2_ypredict"
   ]
  },
  {
   "cell_type": "code",
   "execution_count": 12,
   "metadata": {},
   "outputs": [
    {
     "data": {
      "text/plain": [
       "array([168.62656977, 171.39068065, 171.12743199, 173.23342123,\n",
       "       176.78727806, 170.46931036, 171.6539293 , 174.68128883,\n",
       "       176.65565374, 167.44195083, 170.2060617 , 169.41631574,\n",
       "       171.39068065, 175.73428345, 171.91717796, 171.91717796,\n",
       "       172.97017257, 175.07616181, 174.5496645 , 173.36504556,\n",
       "       173.62829421, 174.41804017, 175.20778614, 175.73428345,\n",
       "       176.26078076, 176.91890239, 177.97189701, 179.02489163,\n",
       "       181.7890025 , 170.33768603, 172.70692392, 171.78555363,\n",
       "       172.31205094, 172.97017257, 175.47103479, 176.39240508,\n",
       "       175.60265912, 177.97189701, 184.02661606, 172.04880228,\n",
       "       174.94453748, 177.70864836, 177.31377537, 177.97189701,\n",
       "       180.20951057, 184.55311337, 171.6539293 , 176.12915643,\n",
       "       177.05052672, 179.02489163, 181.39412952, 174.02316719,\n",
       "       173.89154287, 175.73428345, 175.86590777, 177.31377537,\n",
       "       179.94626192, 174.68128883, 181.92062683, 177.31377537,\n",
       "       176.78727806, 174.81291316, 166.65220487, 170.73255901,\n",
       "       166.65220487, 169.94281305, 171.6539293 , 172.44367527,\n",
       "       174.68128883, 179.02489163, 167.44195083, 168.10007247,\n",
       "       171.39068065, 175.73428345, 169.94281305, 172.31205094,\n",
       "       172.70692392, 173.89154287, 173.89154287, 174.02316719,\n",
       "       176.65565374, 176.52402941, 178.23514566, 168.49494545,\n",
       "       170.33768603, 170.73255901, 174.28641585, 175.20778614,\n",
       "       176.12915643, 176.52402941, 175.9975321 , 180.60438356,\n",
       "       170.2060617 , 171.91717796, 173.23342123, 174.28641585,\n",
       "       177.4453997 , 177.84027268, 179.15651596, 172.57529959,\n",
       "       173.1017969 , 175.86590777, 178.10352134, 178.76164297,\n",
       "       179.41976461, 179.55138894, 169.41631574, 172.18042661,\n",
       "       174.15479152, 174.41804017, 175.33941047, 176.26078076,\n",
       "       176.91890239, 178.63001865, 174.5496645 , 176.91890239,\n",
       "       177.57702403, 179.15651596, 176.26078076, 177.05052672,\n",
       "       181.13088086, 174.94453748, 179.15651596, 179.02489163,\n",
       "       168.36332112, 165.59921025, 171.12743199, 174.28641585,\n",
       "       164.54621563, 171.12743199, 170.60093468, 172.44367527,\n",
       "       172.97017257, 167.04707785, 168.49494545, 169.28469141,\n",
       "       170.33768603, 171.78555363, 169.94281305, 169.15306708,\n",
       "       170.33768603, 172.31205094, 172.04880228, 173.49666988,\n",
       "       174.02316719, 174.02316719, 176.26078076, 166.25733188,\n",
       "       169.67956439, 172.57529959, 175.60265912, 177.70864836,\n",
       "       179.94626192, 172.97017257, 174.02316719, 173.75991854,\n",
       "       175.07616181, 176.91890239, 177.18215105, 177.70864836,\n",
       "       179.81463759, 171.12743199, 173.1017969 , 173.75991854,\n",
       "       174.68128883, 177.4453997 , 177.70864836, 180.47275923,\n",
       "       170.07443737, 170.73255901, 171.91717796, 174.02316719,\n",
       "       174.68128883, 175.47103479, 174.28641585, 176.65565374,\n",
       "       176.52402941, 176.78727806, 180.60438356, 175.07616181,\n",
       "       176.39240508, 177.57702403, 178.76164297, 180.07788625,\n",
       "       174.81291316, 176.12915643, 176.91890239, 179.02489163,\n",
       "       180.07788625, 182.05225116, 165.46758592, 170.73255901,\n",
       "       167.44195083, 169.02144276, 171.39068065, 169.67956439,\n",
       "       172.57529959, 165.99408323, 169.67956439, 170.33768603,\n",
       "       172.83854825, 173.89154287, 170.2060617 , 172.04880228,\n",
       "       172.04880228, 174.02316719, 174.81291316, 175.33941047,\n",
       "       176.78727806, 169.94281305, 172.44367527, 172.04880228,\n",
       "       173.49666988, 174.15479152, 174.41804017, 174.94453748,\n",
       "       176.12915643, 176.39240508, 176.52402941, 176.91890239,\n",
       "       177.31377537, 178.23514566, 168.62656977, 173.36504556,\n",
       "       174.5496645 , 175.33941047, 175.20778614, 176.52402941,\n",
       "       175.86590777, 177.84027268, 180.07788625, 170.73255901,\n",
       "       171.78555363, 172.31205094, 174.28641585, 175.07616181,\n",
       "       174.94453748, 176.39240508, 178.10352134, 179.02489163,\n",
       "       178.10352134, 180.60438356, 173.62829421, 175.20778614,\n",
       "       175.33941047, 176.12915643, 177.70864836, 178.36676999,\n",
       "       180.60438356, 176.39240508, 177.70864836, 178.76164297,\n",
       "       179.81463759, 178.10352134, 174.5496645 , 177.31377537,\n",
       "       180.99925654, 172.18042661, 179.41976461, 174.94453748,\n",
       "       171.25905632, 177.97189701, 166.78382919, 169.15306708,\n",
       "       169.67956439, 170.99580767, 172.18042661, 173.1017969 ,\n",
       "       178.49839432, 171.52230497, 170.46931036, 174.15479152,\n",
       "       176.65565374, 173.1017969 , 174.15479152, 175.60265912,\n",
       "       177.18215105, 178.10352134, 170.07443737, 170.46931036,\n",
       "       171.91717796, 173.23342123, 173.75991854, 175.20778614,\n",
       "       175.20778614, 175.47103479, 176.39240508, 176.65565374,\n",
       "       178.10352134, 179.15651596, 180.47275923, 168.10007247,\n",
       "       172.04880228, 174.28641585, 176.52402941, 176.12915643,\n",
       "       175.9975321 , 178.10352134, 180.99925654, 171.25905632,\n",
       "       172.04880228, 173.62829421, 173.36504556, 174.41804017,\n",
       "       175.60265912, 176.26078076, 178.10352134, 177.4453997 ,\n",
       "       170.86418334, 174.94453748, 177.4453997 , 177.84027268,\n",
       "       174.81291316, 177.70864836, 178.49839432, 173.75991854,\n",
       "       179.28814028, 171.52230497, 180.3411349 , 168.49494545,\n",
       "       174.41804017, 173.49666988, 179.81463759])"
      ]
     },
     "execution_count": 12,
     "metadata": {},
     "output_type": "execute_result"
    }
   ],
   "source": [
    "model.predict(x_test)"
   ]
  },
  {
   "cell_type": "code",
   "execution_count": 13,
   "metadata": {},
   "outputs": [],
   "source": [
    "import numpy as np\n",
    "from sklearn.model_selection import train_test_split\n",
    "from sklearn.linear_model import LogisticRegression\n",
    "\n",
    "##########데이터 로드\n",
    "\n",
    "x_data = np.array([\n",
    "    [2, 1],\n",
    "    [3, 2],\n",
    "    [3, 4],\n",
    "    [5, 5],\n",
    "    [7, 5],\n",
    "    [2, 5],\n",
    "    [8, 9],\n",
    "    [9, 10],\n",
    "    [6, 12],\n",
    "    [9, 2],\n",
    "    [6, 10],\n",
    "    [2, 4]\n",
    "])\n",
    "y_data = np.array([0, 0, 0, 1, 1, 0, 1, 1, 1, 1, 1, 0])\n",
    "\n",
    "labels = ['fail', 'pass']"
   ]
  },
  {
   "cell_type": "code",
   "execution_count": 14,
   "metadata": {},
   "outputs": [
    {
     "name": "stdout",
     "output_type": "stream",
     "text": [
      "[0.14726495 0.03377002] -0.3717131697471452\n",
      "0.1472649460838363 가중치\n",
      "-0.3717131697471452 bias\n"
     ]
    },
    {
     "data": {
      "text/plain": [
       "'\\nx0 결과 = x_data[:,0]*model.coef_[0]\\nx1 결과 = x_data[:,1]*model.coef_[1]\\ny에측값 = x0결과 + x1결과 + model.intercept_\\n'"
      ]
     },
     "execution_count": 14,
     "metadata": {},
     "output_type": "execute_result"
    }
   ],
   "source": [
    "model=LinearRegression()\n",
    "model.fit(x_data, y_data)\n",
    "print(model.coef_,model.intercept_)\n",
    "\n",
    "#[2,1]의 예측값은?\n",
    "2*model.coef_[0]+1*model.coef_[1]+model.intercept_, model.predict(x_data)[0]\n",
    "\n",
    "x_data[:,0]\n",
    "print(model.coef_[0],\"가중치\")\n",
    "print(model.intercept_, \"bias\")\n",
    "\n",
    "\"\"\"\n",
    "x0 결과 = x_data[:,0]*model.coef_[0]\n",
    "x1 결과 = x_data[:,1]*model.coef_[1]\n",
    "y에측값 = x0결과 + x1결과 + model.intercept_\n",
    "\"\"\"\n",
    "\n"
   ]
  },
  {
   "cell_type": "code",
   "execution_count": 15,
   "metadata": {},
   "outputs": [
    {
     "name": "stdout",
     "output_type": "stream",
     "text": [
      "[-0.04341326  0.13762171  0.20516175  0.53346166  0.82799155  0.09166682\n",
      "  1.11033658  1.29137154  0.91711675  1.02121139  0.84957671  0.0578968 ]\n"
     ]
    }
   ],
   "source": [
    "print(model.predict(x_data))"
   ]
  },
  {
   "cell_type": "code",
   "execution_count": 17,
   "metadata": {},
   "outputs": [
    {
     "name": "stdout",
     "output_type": "stream",
     "text": [
      "데이터 단일값: ['a' 'b' 'c' 'd' 'e' 'f']\n",
      "단일값대비 데이터: [6 3 1 1 1 1]\n"
     ]
    },
    {
     "data": {
      "image/png": "[encoded data removed]",
      "text/plain": [
       "<Figure size 640x480 with 1 Axes>"
      ]
     },
     "metadata": {},
     "output_type": "display_data"
    },
    {
     "name": "stdout",
     "output_type": "stream",
     "text": [
      "a ==> 0.46153846153846156\n",
      "b ==> 0.23076923076923078\n",
      "c ==> 0.07692307692307693\n",
      "d ==> 0.07692307692307693\n",
      "e ==> 0.07692307692307693\n",
      "f ==> 0.07692307692307693\n"
     ]
    },
    {
     "data": {
      "image/png": "[encoded data removed]",
      "text/plain": [
       "<Figure size 640x480 with 1 Axes>"
      ]
     },
     "metadata": {},
     "output_type": "display_data"
    }
   ],
   "source": [
    "def un(y_data):\n",
    "    import numpy as np\n",
    "    import matplotlib.pyplot as plt\n",
    "    uniqueData = np.unique(y_data, return_counts=True)\n",
    "    print(\"데이터 단일값:\",uniqueData[0])\n",
    "    print(\"단일값대비 데이터:\",uniqueData[1])\n",
    "    plt.bar(uniqueData[0],uniqueData[1])\n",
    "    plt.show(0)\n",
    "\n",
    "    for x in range(len(uniqueData[0])):\n",
    "        print(uniqueData[0][x],\"==>\",uniqueData[1][x]/np.sum(uniqueData[1]))\n",
    "\n",
    "un(['a,b,a,b,a,b,a,a,c,a,d,e,f'.split(',')])\n"
   ]
  },
  {
   "attachments": {},
   "cell_type": "markdown",
   "metadata": {},
   "source": [
    "##### 훈련, 테스트 데이터 나누기 : 데이터 편향없이 잘 나눔, \"훈련자료에는 모든 클레스가 다 있어야함\"\n",
    "### train_test_split()"
   ]
  },
  {
   "cell_type": "code",
   "execution_count": 136,
   "metadata": {},
   "outputs": [
    {
     "data": {
      "text/plain": [
       "((array([0, 1]), array([4, 6], dtype=int64)),\n",
       " (array([0, 1]), array([1, 1], dtype=int64)))"
      ]
     },
     "execution_count": 136,
     "metadata": {},
     "output_type": "execute_result"
    }
   ],
   "source": [
    "x_train, x_test, y_train, y_test = train_test_split(x_data, y_data,\n",
    "                                                    test_size=0.1,\n",
    "                                                    random_state=777,\n",
    "                                                    stratify=y_data)\n",
    "np.unique(y_train, return_counts=True), np.unique(y_test,return_counts=True)"
   ]
  },
  {
   "cell_type": "code",
   "execution_count": 147,
   "metadata": {},
   "outputs": [
    {
     "name": "stdout",
     "output_type": "stream",
     "text": [
      "데이터 단일값: [0 1]\n",
      "단일값대비 데이터: [4 6]\n"
     ]
    },
    {
     "data": {
      "image/png": "[encoded data removed]",
      "text/plain": [
       "<Figure size 640x480 with 1 Axes>"
      ]
     },
     "metadata": {},
     "output_type": "display_data"
    },
    {
     "name": "stdout",
     "output_type": "stream",
     "text": [
      "0 ==> 0.4\n",
      "1 ==> 0.6\n"
     ]
    },
    {
     "data": {
      "image/png": "[encoded data removed]",
      "text/plain": [
       "<Figure size 640x480 with 1 Axes>"
      ]
     },
     "metadata": {},
     "output_type": "display_data"
    }
   ],
   "source": [
    "un(y_train)"
   ]
  },
  {
   "cell_type": "code",
   "execution_count": null,
   "metadata": {},
   "outputs": [],
   "source": []
  },
  {
   "cell_type": "code",
   "execution_count": 18,
   "metadata": {},
   "outputs": [
    {
     "name": "stderr",
     "output_type": "stream",
     "text": [
      "c:\\Users\\user\\miniconda3\\envs\\py\\Lib\\site-packages\\sklearn\\linear_model\\_logistic.py:1173: FutureWarning: `penalty='none'`has been deprecated in 1.2 and will be removed in 1.4. To keep the past behaviour, set `penalty=None`.\n",
      "  warnings.warn(\n"
     ]
    },
    {
     "ename": "ValueError",
     "evalue": "Unknown label type: 'continuous'",
     "output_type": "error",
     "traceback": [
      "\u001b[1;31m---------------------------------------------------------------------------\u001b[0m",
      "\u001b[1;31mValueError\u001b[0m                                Traceback (most recent call last)",
      "Cell \u001b[1;32mIn[18], line 2\u001b[0m\n\u001b[0;32m      1\u001b[0m model \u001b[39m=\u001b[39m LogisticRegression(penalty\u001b[39m=\u001b[39m\u001b[39m'\u001b[39m\u001b[39mnone\u001b[39m\u001b[39m'\u001b[39m)\n\u001b[1;32m----> 2\u001b[0m model\u001b[39m.\u001b[39mfit(x_train, y_train)\n\u001b[0;32m      3\u001b[0m y_predict \u001b[39m=\u001b[39m model\u001b[39m.\u001b[39mpredict(x_train)\n\u001b[0;32m      6\u001b[0m \u001b[39m# 내가 직접 만드는 score값\u001b[39;00m\n",
      "File \u001b[1;32mc:\\Users\\user\\miniconda3\\envs\\py\\Lib\\site-packages\\sklearn\\linear_model\\_logistic.py:1204\u001b[0m, in \u001b[0;36mLogisticRegression.fit\u001b[1;34m(self, X, y, sample_weight)\u001b[0m\n\u001b[0;32m   1194\u001b[0m     _dtype \u001b[39m=\u001b[39m [np\u001b[39m.\u001b[39mfloat64, np\u001b[39m.\u001b[39mfloat32]\n\u001b[0;32m   1196\u001b[0m X, y \u001b[39m=\u001b[39m \u001b[39mself\u001b[39m\u001b[39m.\u001b[39m_validate_data(\n\u001b[0;32m   1197\u001b[0m     X,\n\u001b[0;32m   1198\u001b[0m     y,\n\u001b[1;32m   (...)\u001b[0m\n\u001b[0;32m   1202\u001b[0m     accept_large_sparse\u001b[39m=\u001b[39msolver \u001b[39mnot\u001b[39;00m \u001b[39min\u001b[39;00m [\u001b[39m\"\u001b[39m\u001b[39mliblinear\u001b[39m\u001b[39m\"\u001b[39m, \u001b[39m\"\u001b[39m\u001b[39msag\u001b[39m\u001b[39m\"\u001b[39m, \u001b[39m\"\u001b[39m\u001b[39msaga\u001b[39m\u001b[39m\"\u001b[39m],\n\u001b[0;32m   1203\u001b[0m )\n\u001b[1;32m-> 1204\u001b[0m check_classification_targets(y)\n\u001b[0;32m   1205\u001b[0m \u001b[39mself\u001b[39m\u001b[39m.\u001b[39mclasses_ \u001b[39m=\u001b[39m np\u001b[39m.\u001b[39munique(y)\n\u001b[0;32m   1207\u001b[0m multi_class \u001b[39m=\u001b[39m _check_multi_class(\u001b[39mself\u001b[39m\u001b[39m.\u001b[39mmulti_class, solver, \u001b[39mlen\u001b[39m(\u001b[39mself\u001b[39m\u001b[39m.\u001b[39mclasses_))\n",
      "File \u001b[1;32mc:\\Users\\user\\miniconda3\\envs\\py\\Lib\\site-packages\\sklearn\\utils\\multiclass.py:218\u001b[0m, in \u001b[0;36mcheck_classification_targets\u001b[1;34m(y)\u001b[0m\n\u001b[0;32m    210\u001b[0m y_type \u001b[39m=\u001b[39m type_of_target(y, input_name\u001b[39m=\u001b[39m\u001b[39m\"\u001b[39m\u001b[39my\u001b[39m\u001b[39m\"\u001b[39m)\n\u001b[0;32m    211\u001b[0m \u001b[39mif\u001b[39;00m y_type \u001b[39mnot\u001b[39;00m \u001b[39min\u001b[39;00m [\n\u001b[0;32m    212\u001b[0m     \u001b[39m\"\u001b[39m\u001b[39mbinary\u001b[39m\u001b[39m\"\u001b[39m,\n\u001b[0;32m    213\u001b[0m     \u001b[39m\"\u001b[39m\u001b[39mmulticlass\u001b[39m\u001b[39m\"\u001b[39m,\n\u001b[1;32m   (...)\u001b[0m\n\u001b[0;32m    216\u001b[0m     \u001b[39m\"\u001b[39m\u001b[39mmultilabel-sequences\u001b[39m\u001b[39m\"\u001b[39m,\n\u001b[0;32m    217\u001b[0m ]:\n\u001b[1;32m--> 218\u001b[0m     \u001b[39mraise\u001b[39;00m \u001b[39mValueError\u001b[39;00m(\u001b[39m\"\u001b[39m\u001b[39mUnknown label type: \u001b[39m\u001b[39m%r\u001b[39;00m\u001b[39m\"\u001b[39m \u001b[39m%\u001b[39m y_type)\n",
      "\u001b[1;31mValueError\u001b[0m: Unknown label type: 'continuous'"
     ]
    }
   ],
   "source": [
    "model = LogisticRegression(penalty='none')\n",
    "model.fit(x_train, y_train)\n",
    "y_predict = model.predict(x_train)\n",
    "\n",
    "\n",
    "# 내가 직접 만드는 score값\n",
    "result = y_predict == y_train\n",
    "np.unique(result, return_counts=True)"
   ]
  },
  {
   "cell_type": "code",
   "execution_count": 19,
   "metadata": {},
   "outputs": [],
   "source": [
    "import pandas as pd\n",
    "from sklearn.preprocessing import OneHotEncoder\n",
    "from sklearn.compose import make_column_transformer\n",
    "from sklearn.linear_model import Lasso\n",
    "import numpy as np\n",
    "\n",
    "##########데이터 로드\n",
    "\n",
    "train_df = pd.read_excel('https://github.com/cranberryai/todak_todak_python/blob/master/machine_learning/regression/carprice_E1SUl6b.xlsx?raw=true', sheet_name='train')\n",
    "test_df = pd.read_excel('https://github.com/cranberryai/todak_todak_python/blob/master/machine_learning/regression/carprice_E1SUl6b.xlsx?raw=true', sheet_name='test')\n",
    "\n",
    "##########데이터 분석\n",
    "\n",
    "##########데이터 전처리\n",
    "\n",
    "x_train = train_df.drop(['가격'], axis=1)\n",
    "x_test = test_df.drop(['가격'], axis=1)\n",
    "y_train = train_df['가격']\n",
    "y_test = test_df['가격']"
   ]
  },
  {
   "cell_type": "code",
   "execution_count": 20,
   "metadata": {},
   "outputs": [
    {
     "data": {
      "text/html": [
       "<div>\n",
       "<style scoped>\n",
       "    .dataframe tbody tr th:only-of-type {\n",
       "        vertical-align: middle;\n",
       "    }\n",
       "\n",
       "    .dataframe tbody tr th {\n",
       "        vertical-align: top;\n",
       "    }\n",
       "\n",
       "    .dataframe thead th {\n",
       "        text-align: right;\n",
       "    }\n",
       "</style>\n",
       "<table border=\"1\" class=\"dataframe\">\n",
       "  <thead>\n",
       "    <tr style=\"text-align: right;\">\n",
       "      <th></th>\n",
       "      <th>년식</th>\n",
       "      <th>종류</th>\n",
       "      <th>연비</th>\n",
       "      <th>마력</th>\n",
       "      <th>토크</th>\n",
       "      <th>연료</th>\n",
       "      <th>하이브리드</th>\n",
       "      <th>배기량</th>\n",
       "      <th>중량</th>\n",
       "      <th>변속기</th>\n",
       "    </tr>\n",
       "  </thead>\n",
       "  <tbody>\n",
       "    <tr>\n",
       "      <th>0</th>\n",
       "      <td>2015</td>\n",
       "      <td>준중형</td>\n",
       "      <td>11.8</td>\n",
       "      <td>172</td>\n",
       "      <td>21.0</td>\n",
       "      <td>가솔린</td>\n",
       "      <td>0</td>\n",
       "      <td>1999</td>\n",
       "      <td>1300</td>\n",
       "      <td>자동</td>\n",
       "    </tr>\n",
       "    <tr>\n",
       "      <th>1</th>\n",
       "      <td>2015</td>\n",
       "      <td>준중형</td>\n",
       "      <td>12.3</td>\n",
       "      <td>204</td>\n",
       "      <td>27.0</td>\n",
       "      <td>가솔린</td>\n",
       "      <td>0</td>\n",
       "      <td>1591</td>\n",
       "      <td>1300</td>\n",
       "      <td>자동</td>\n",
       "    </tr>\n",
       "    <tr>\n",
       "      <th>2</th>\n",
       "      <td>2015</td>\n",
       "      <td>소형</td>\n",
       "      <td>15.0</td>\n",
       "      <td>100</td>\n",
       "      <td>13.6</td>\n",
       "      <td>가솔린</td>\n",
       "      <td>0</td>\n",
       "      <td>1368</td>\n",
       "      <td>1035</td>\n",
       "      <td>수동</td>\n",
       "    </tr>\n",
       "    <tr>\n",
       "      <th>3</th>\n",
       "      <td>2014</td>\n",
       "      <td>소형</td>\n",
       "      <td>14.0</td>\n",
       "      <td>140</td>\n",
       "      <td>17.0</td>\n",
       "      <td>가솔린</td>\n",
       "      <td>0</td>\n",
       "      <td>1591</td>\n",
       "      <td>1090</td>\n",
       "      <td>자동</td>\n",
       "    </tr>\n",
       "    <tr>\n",
       "      <th>4</th>\n",
       "      <td>2015</td>\n",
       "      <td>대형</td>\n",
       "      <td>9.6</td>\n",
       "      <td>175</td>\n",
       "      <td>46.0</td>\n",
       "      <td>디젤</td>\n",
       "      <td>0</td>\n",
       "      <td>2497</td>\n",
       "      <td>1990</td>\n",
       "      <td>자동</td>\n",
       "    </tr>\n",
       "  </tbody>\n",
       "</table>\n",
       "</div>"
      ],
      "text/plain": [
       "     년식   종류    연비   마력    토크   연료  하이브리드   배기량    중량 변속기\n",
       "0  2015  준중형  11.8  172  21.0  가솔린      0  1999  1300  자동\n",
       "1  2015  준중형  12.3  204  27.0  가솔린      0  1591  1300  자동\n",
       "2  2015   소형  15.0  100  13.6  가솔린      0  1368  1035  수동\n",
       "3  2014   소형  14.0  140  17.0  가솔린      0  1591  1090  자동\n",
       "4  2015   대형   9.6  175  46.0   디젤      0  2497  1990  자동"
      ]
     },
     "execution_count": 20,
     "metadata": {},
     "output_type": "execute_result"
    }
   ],
   "source": [
    "x_train.head()"
   ]
  },
  {
   "cell_type": "code",
   "execution_count": 21,
   "metadata": {},
   "outputs": [
    {
     "data": {
      "text/html": [
       "<div>\n",
       "<style scoped>\n",
       "    .dataframe tbody tr th:only-of-type {\n",
       "        vertical-align: middle;\n",
       "    }\n",
       "\n",
       "    .dataframe tbody tr th {\n",
       "        vertical-align: top;\n",
       "    }\n",
       "\n",
       "    .dataframe thead th {\n",
       "        text-align: right;\n",
       "    }\n",
       "</style>\n",
       "<table border=\"1\" class=\"dataframe\">\n",
       "  <thead>\n",
       "    <tr style=\"text-align: right;\">\n",
       "      <th></th>\n",
       "      <th>년식</th>\n",
       "      <th>종류</th>\n",
       "      <th>연비</th>\n",
       "      <th>마력</th>\n",
       "      <th>토크</th>\n",
       "      <th>연료</th>\n",
       "      <th>하이브리드</th>\n",
       "      <th>배기량</th>\n",
       "      <th>중량</th>\n",
       "      <th>변속기</th>\n",
       "    </tr>\n",
       "  </thead>\n",
       "  <tbody>\n",
       "    <tr>\n",
       "      <th>0</th>\n",
       "      <td>2015</td>\n",
       "      <td>준중형</td>\n",
       "      <td>11.8</td>\n",
       "      <td>172</td>\n",
       "      <td>21.0</td>\n",
       "      <td>가솔린</td>\n",
       "      <td>0</td>\n",
       "      <td>1999</td>\n",
       "      <td>1300</td>\n",
       "      <td>자동</td>\n",
       "    </tr>\n",
       "    <tr>\n",
       "      <th>1</th>\n",
       "      <td>2015</td>\n",
       "      <td>준중형</td>\n",
       "      <td>12.3</td>\n",
       "      <td>204</td>\n",
       "      <td>27.0</td>\n",
       "      <td>가솔린</td>\n",
       "      <td>0</td>\n",
       "      <td>1591</td>\n",
       "      <td>1300</td>\n",
       "      <td>자동</td>\n",
       "    </tr>\n",
       "    <tr>\n",
       "      <th>2</th>\n",
       "      <td>2015</td>\n",
       "      <td>소형</td>\n",
       "      <td>15.0</td>\n",
       "      <td>100</td>\n",
       "      <td>13.6</td>\n",
       "      <td>가솔린</td>\n",
       "      <td>0</td>\n",
       "      <td>1368</td>\n",
       "      <td>1035</td>\n",
       "      <td>수동</td>\n",
       "    </tr>\n",
       "    <tr>\n",
       "      <th>3</th>\n",
       "      <td>2014</td>\n",
       "      <td>소형</td>\n",
       "      <td>14.0</td>\n",
       "      <td>140</td>\n",
       "      <td>17.0</td>\n",
       "      <td>가솔린</td>\n",
       "      <td>0</td>\n",
       "      <td>1591</td>\n",
       "      <td>1090</td>\n",
       "      <td>자동</td>\n",
       "    </tr>\n",
       "    <tr>\n",
       "      <th>4</th>\n",
       "      <td>2015</td>\n",
       "      <td>대형</td>\n",
       "      <td>9.6</td>\n",
       "      <td>175</td>\n",
       "      <td>46.0</td>\n",
       "      <td>디젤</td>\n",
       "      <td>0</td>\n",
       "      <td>2497</td>\n",
       "      <td>1990</td>\n",
       "      <td>자동</td>\n",
       "    </tr>\n",
       "    <tr>\n",
       "      <th>5</th>\n",
       "      <td>2015</td>\n",
       "      <td>중형</td>\n",
       "      <td>12.4</td>\n",
       "      <td>200</td>\n",
       "      <td>44.5</td>\n",
       "      <td>디젤</td>\n",
       "      <td>0</td>\n",
       "      <td>2199</td>\n",
       "      <td>1864</td>\n",
       "      <td>자동</td>\n",
       "    </tr>\n",
       "    <tr>\n",
       "      <th>6</th>\n",
       "      <td>2015</td>\n",
       "      <td>중형</td>\n",
       "      <td>13.8</td>\n",
       "      <td>200</td>\n",
       "      <td>44.5</td>\n",
       "      <td>디젤</td>\n",
       "      <td>0</td>\n",
       "      <td>2199</td>\n",
       "      <td>1799</td>\n",
       "      <td>자동</td>\n",
       "    </tr>\n",
       "    <tr>\n",
       "      <th>7</th>\n",
       "      <td>2014</td>\n",
       "      <td>소형</td>\n",
       "      <td>14.1</td>\n",
       "      <td>100</td>\n",
       "      <td>13.6</td>\n",
       "      <td>가솔린</td>\n",
       "      <td>0</td>\n",
       "      <td>1368</td>\n",
       "      <td>1095</td>\n",
       "      <td>자동</td>\n",
       "    </tr>\n",
       "  </tbody>\n",
       "</table>\n",
       "</div>"
      ],
      "text/plain": [
       "     년식   종류    연비   마력    토크   연료  하이브리드   배기량    중량 변속기\n",
       "0  2015  준중형  11.8  172  21.0  가솔린      0  1999  1300  자동\n",
       "1  2015  준중형  12.3  204  27.0  가솔린      0  1591  1300  자동\n",
       "2  2015   소형  15.0  100  13.6  가솔린      0  1368  1035  수동\n",
       "3  2014   소형  14.0  140  17.0  가솔린      0  1591  1090  자동\n",
       "4  2015   대형   9.6  175  46.0   디젤      0  2497  1990  자동\n",
       "5  2015   중형  12.4  200  44.5   디젤      0  2199  1864  자동\n",
       "6  2015   중형  13.8  200  44.5   디젤      0  2199  1799  자동\n",
       "7  2014   소형  14.1  100  13.6  가솔린      0  1368  1095  자동"
      ]
     },
     "execution_count": 21,
     "metadata": {},
     "output_type": "execute_result"
    }
   ],
   "source": [
    "np.unique(x_train['종류'])\n",
    "x_train.head(8)"
   ]
  },
  {
   "cell_type": "code",
   "execution_count": 22,
   "metadata": {},
   "outputs": [
    {
     "data": {
      "text/plain": [
       "array([[0.0, 0.0, 1.0, 0.0, 2015, 11.8, 172, 21.0, '가솔린', 0, 1999, 1300,\n",
       "        '자동'],\n",
       "       [0.0, 0.0, 1.0, 0.0, 2015, 12.3, 204, 27.0, '가솔린', 0, 1591, 1300,\n",
       "        '자동'],\n",
       "       [0.0, 1.0, 0.0, 0.0, 2015, 15.0, 100, 13.6, '가솔린', 0, 1368, 1035,\n",
       "        '수동'],\n",
       "       [0.0, 1.0, 0.0, 0.0, 2014, 14.0, 140, 17.0, '가솔린', 0, 1591, 1090,\n",
       "        '자동'],\n",
       "       [1.0, 0.0, 0.0, 0.0, 2015, 9.6, 175, 46.0, '디젤', 0, 2497, 1990,\n",
       "        '자동'],\n",
       "       [0.0, 0.0, 0.0, 1.0, 2015, 12.4, 200, 44.5, '디젤', 0, 2199, 1864,\n",
       "        '자동'],\n",
       "       [0.0, 0.0, 0.0, 1.0, 2015, 13.8, 200, 44.5, '디젤', 0, 2199, 1799,\n",
       "        '자동'],\n",
       "       [0.0, 1.0, 0.0, 0.0, 2014, 14.1, 100, 13.6, '가솔린', 0, 1368, 1095,\n",
       "        '자동'],\n",
       "       [0.0, 0.0, 0.0, 1.0, 2015, 10.8, 245, 36.0, '가솔린', 0, 1998, 1570,\n",
       "        '자동'],\n",
       "       [0.0, 1.0, 0.0, 0.0, 2015, 14.0, 100, 13.6, '가솔린', 0, 1368, 1103,\n",
       "        '자동'],\n",
       "       [0.0, 0.0, 1.0, 0.0, 2015, 13.8, 184, 41.0, '디젤', 0, 1995, 1548,\n",
       "        '자동'],\n",
       "       [0.0, 0.0, 0.0, 1.0, 2015, 11.4, 200, 20.9, '디젤', 0, 2199, 1864,\n",
       "        '자동'],\n",
       "       [0.0, 0.0, 1.0, 0.0, 2015, 15.0, 186, 41.0, '디젤', 0, 1995, 1615,\n",
       "        '수동'],\n",
       "       [1.0, 0.0, 0.0, 0.0, 2015, 6.8, 159, 23.0, 'LPG', 0, 2359, 1935,\n",
       "        '수동'],\n",
       "       [0.0, 1.0, 0.0, 0.0, 2013, 13.3, 108, 13.6, '가솔린', 0, 1396, 1035,\n",
       "        '자동'],\n",
       "       [1.0, 0.0, 0.0, 0.0, 2015, 11.4, 175, 46.0, '디젤', 0, 2497, 1990,\n",
       "        '수동'],\n",
       "       [1.0, 0.0, 0.0, 0.0, 2015, 11.4, 175, 46.0, '디젤', 0, 2497, 1990,\n",
       "        '수동'],\n",
       "       [1.0, 0.0, 0.0, 0.0, 2015, 9.2, 282, 35.4, '가솔린', 0, 3342, 1900,\n",
       "        '자동'],\n",
       "       [0.0, 0.0, 0.0, 1.0, 2015, 11.9, 200, 44.5, '디젤', 0, 2199, 1840,\n",
       "        '자동'],\n",
       "       [1.0, 0.0, 0.0, 0.0, 2015, 8.5, 315, 40.5, '가솔린', 0, 3778, 2000,\n",
       "        '자동'],\n",
       "       [1.0, 0.0, 0.0, 0.0, 2015, 6.4, 159, 23.0, 'LPG', 0, 2359, 1935,\n",
       "        '자동'],\n",
       "       [0.0, 0.0, 0.0, 1.0, 2015, 11.5, 193, 25.2, '가솔린', 0, 2359, 1575,\n",
       "        '자동'],\n",
       "       [0.0, 0.0, 1.0, 0.0, 2015, 18.5, 128, 28.5, '디젤', 0, 1582, 1305,\n",
       "        '수동'],\n",
       "       [1.0, 0.0, 0.0, 0.0, 2015, 6.6, 159, 23.0, '디젤', 0, 2359, 2165,\n",
       "        '수동'],\n",
       "       [0.0, 0.0, 0.0, 1.0, 2015, 16.2, 141, 34.7, '디젤', 0, 1685, 1540,\n",
       "        '자동'],\n",
       "       [0.0, 0.0, 0.0, 1.0, 2015, 13.0, 184, 41.0, '디젤', 0, 1995, 1859,\n",
       "        '자동'],\n",
       "       [0.0, 0.0, 0.0, 1.0, 2015, 11.3, 200, 44.5, '디젤', 0, 2199, 1905,\n",
       "        '자동'],\n",
       "       [0.0, 1.0, 0.0, 0.0, 2011, 16.1, 108, 13.9, '가솔린', 0, 1396, 1040,\n",
       "        '자동'],\n",
       "       [0.0, 1.0, 0.0, 0.0, 2012, 14.3, 108, 13.9, '가솔린', 0, 1396, 1040,\n",
       "        '수동'],\n",
       "       [0.0, 0.0, 1.0, 0.0, 2015, 12.4, 140, 17.0, '가솔린', 0, 1591, 1225,\n",
       "        '자동'],\n",
       "       [1.0, 0.0, 0.0, 0.0, 2015, 11.3, 190, 24.6, '가솔린', 0, 2359, 1575,\n",
       "        '자동'],\n",
       "       [1.0, 0.0, 0.0, 0.0, 2015, 9.5, 270, 31.6, '가솔린', 0, 2999, 1670,\n",
       "        '자동'],\n",
       "       [1.0, 0.0, 0.0, 0.0, 2015, 8.9, 133, 26.5, '디젤', 0, 2497, 1751,\n",
       "        '자동'],\n",
       "       [1.0, 0.0, 0.0, 0.0, 2014, 6.8, 159, 23.0, 'LPG', 0, 2359, 1935,\n",
       "        '수동'],\n",
       "       [0.0, 1.0, 0.0, 0.0, 2015, 19.0, 136, 30.6, '디젤', 0, 1582, 1160,\n",
       "        '수동'],\n",
       "       [1.0, 0.0, 0.0, 0.0, 2015, 9.1, 133, 26.5, '디젤', 0, 2497, 1850,\n",
       "        '수동'],\n",
       "       [0.0, 0.0, 1.0, 0.0, 2015, 14.1, 140, 17.0, '가솔린', 0, 1591, 1210,\n",
       "        '수동'],\n",
       "       [1.0, 0.0, 0.0, 0.0, 2014, 6.4, 159, 23.0, 'LPG', 0, 2359, 1935,\n",
       "        '자동'],\n",
       "       [0.0, 0.0, 1.0, 0.0, 2012, 14.0, 114, 15.0, 'LPG', 1, 1591, 1297,\n",
       "        '자동'],\n",
       "       [0.0, 1.0, 0.0, 0.0, 2015, 14.0, 140, 17.0, '가솔린', 0, 1591, 1085,\n",
       "        '자동'],\n",
       "       [0.0, 1.0, 0.0, 0.0, 2011, 16.1, 108, 13.9, '가솔린', 0, 1396, 1035,\n",
       "        '자동'],\n",
       "       [0.0, 1.0, 0.0, 0.0, 2013, 13.3, 108, 13.9, '가솔린', 0, 1396, 1065,\n",
       "        '자동'],\n",
       "       [1.0, 0.0, 0.0, 0.0, 2014, 9.6, 175, 46.0, '디젤', 0, 2497, 1990,\n",
       "        '자동'],\n",
       "       [1.0, 0.0, 0.0, 0.0, 2015, 10.4, 270, 31.6, '가솔린', 0, 2999, 1590,\n",
       "        '자동'],\n",
       "       [1.0, 0.0, 0.0, 0.0, 2015, 9.5, 175, 46.0, '디젤', 0, 2497, 2210,\n",
       "        '자동'],\n",
       "       [0.0, 0.0, 1.0, 0.0, 2015, 10.3, 166, 20.9, '가솔린', 0, 1999, 1452,\n",
       "        '자동'],\n",
       "       [0.0, 1.0, 0.0, 0.0, 2013, 15.0, 108, 13.6, '가솔린', 0, 1396, 1035,\n",
       "        '수동'],\n",
       "       [1.0, 0.0, 0.0, 0.0, 2015, 9.0, 315, 40.5, '가솔린', 0, 3778, 1930,\n",
       "        '자동'],\n",
       "       [0.0, 0.0, 1.0, 0.0, 2015, 15.6, 141, 34.7, '디젤', 0, 1685, 1565,\n",
       "        '자동'],\n",
       "       [0.0, 1.0, 0.0, 0.0, 2011, 18.0, 108, 13.9, '가솔린', 0, 1396, 1035,\n",
       "        '수동'],\n",
       "       [0.0, 0.0, 0.0, 1.0, 2015, 15.5, 166, 34.7, '가솔린', 0, 1999, 1470,\n",
       "        '자동'],\n",
       "       [0.0, 0.0, 0.0, 1.0, 2015, 11.4, 166, 20.9, '가솔린', 0, 1999, 1470,\n",
       "        '자동'],\n",
       "       [1.0, 0.0, 0.0, 0.0, 2015, 9.5, 294, 35.3, '가솔린', 0, 3342, 1690,\n",
       "        '자동'],\n",
       "       [0.0, 0.0, 1.0, 0.0, 2015, 14.1, 186, 41.0, '디젤', 0, 1995, 1665,\n",
       "        '수동'],\n",
       "       [0.0, 0.0, 1.0, 0.0, 2015, 12.7, 172, 21.0, '가솔린', 0, 1999, 1300,\n",
       "        '수동'],\n",
       "       [1.0, 0.0, 0.0, 0.0, 2014, 11.4, 175, 46.0, '디젤', 0, 2497, 1990,\n",
       "        '수동'],\n",
       "       [0.0, 0.0, 0.0, 1.0, 2015, 14.0, 200, 43.0, '디젤', 0, 2199, 1826,\n",
       "        '수동'],\n",
       "       [0.0, 0.0, 1.0, 0.0, 2015, 17.3, 136, 30.6, '디젤', 0, 1582, 1350,\n",
       "        '자동'],\n",
       "       [1.0, 0.0, 0.0, 0.0, 2015, 6.3, 159, 23.0, '디젤', 0, 2359, 2165,\n",
       "        '자동'],\n",
       "       [1.0, 0.0, 0.0, 0.0, 2015, 10.7, 255, 48.0, '디젤', 0, 2959, 2115,\n",
       "        '자동'],\n",
       "       [0.0, 0.0, 1.0, 0.0, 2015, 14.4, 186, 41.0, '디젤', 0, 1995, 1615,\n",
       "        '자동'],\n",
       "       [1.0, 0.0, 0.0, 0.0, 2015, 16.0, 159, 21.0, '가솔린', 1, 2359, 1680,\n",
       "        '자동'],\n",
       "       [0.0, 1.0, 0.0, 0.0, 2011, 18.0, 108, 13.9, '가솔린', 0, 1396, 1040,\n",
       "        '수동'],\n",
       "       [1.0, 0.0, 0.0, 0.0, 2015, 11.2, 255, 48.0, '디젤', 0, 2959, 2035,\n",
       "        '자동'],\n",
       "       [1.0, 0.0, 0.0, 0.0, 2015, 8.1, 416, 52.0, '가솔린', 0, 5038, 2065,\n",
       "        '자동'],\n",
       "       [0.0, 1.0, 0.0, 0.0, 2012, 14.3, 108, 13.9, '가솔린', 0, 1396, 1035,\n",
       "        '수동'],\n",
       "       [0.0, 0.0, 0.0, 1.0, 2015, 8.5, 290, 34.8, '가솔린', 0, 3342, 1901,\n",
       "        '자동'],\n",
       "       [0.0, 1.0, 0.0, 0.0, 2012, 13.3, 108, 13.9, '가솔린', 0, 1396, 1040,\n",
       "        '자동'],\n",
       "       [0.0, 0.0, 1.0, 0.0, 2015, 12.8, 186, 41.0, '디젤', 0, 1995, 1665,\n",
       "        '자동'],\n",
       "       [0.0, 0.0, 0.0, 1.0, 2015, 17.7, 156, 19.3, '가솔린', 1, 1999, 1585,\n",
       "        '자동'],\n",
       "       [1.0, 0.0, 0.0, 0.0, 2015, 13.8, 202, 45.0, '디젤', 0, 2199, 1691,\n",
       "        '자동']], dtype=object)"
      ]
     },
     "execution_count": 22,
     "metadata": {},
     "output_type": "execute_result"
    }
   ],
   "source": [
    "transformer = make_column_transformer(\n",
    "    (OneHotEncoder(), ['종류']),\n",
    "    remainder='passthrough')\n",
    "# fit은 Train에만!!!\n",
    "transformer.fit(x_train)\n",
    "# transform은 table -> 배열로 만든 것\n",
    "transformer.transform(x_train)"
   ]
  },
  {
   "cell_type": "code",
   "execution_count": null,
   "metadata": {},
   "outputs": [],
   "source": []
  },
  {
   "attachments": {},
   "cell_type": "markdown",
   "metadata": {},
   "source": [
    "### [문자->숫자로 변환]레벨 인코딩(교재 117)\n",
    " - 문자로 된 y값을 숫자로 변형해야할 때 필수\n",
    "    - fit은 값을 unique하게 바뀌면서 0,1,2,3.. 값을 할당\n",
    "    - transform은 fit된 값을 y값에 적용\n",
    " - 트레이닝하고 테스트 나누기 전에 처음으로 숫자로 변경한 뒤, 트레인과 테스트 자료로 나누는 것을 권장\n",
    " - 만약 나뉘어져 있는 자료라면 train에만 fit과 transform을 전부 진행\n",
    "    - test는 transform만 진행"
   ]
  },
  {
   "cell_type": "code",
   "execution_count": 23,
   "metadata": {},
   "outputs": [
    {
     "name": "stdout",
     "output_type": "stream",
     "text": [
      "[' 냉장고' ' 믹서' ' 선풍기' ' 전자레인지' ' 컴퓨터' 'tv']\n"
     ]
    },
    {
     "data": {
      "text/plain": [
       "array([5, 0, 3, 4, 2, 1, 1])"
      ]
     },
     "execution_count": 23,
     "metadata": {},
     "output_type": "execute_result"
    }
   ],
   "source": [
    "items=('tv, 냉장고, 전자레인지, 컴퓨터, 선풍기, 믹서, 믹서').split(',')\n",
    "    \n",
    "from sklearn.preprocessing import LabelEncoder\n",
    "encoder = LabelEncoder()\n",
    "encoder.fit(items) ## items 중복제거, 0,1,2,3,4 index를 갖게 함.\n",
    "# 중복제거\n",
    "print(encoder.classes_)\n",
    "#fit에서 나온 결과물을 items에 적용\n",
    "encoder.transform(items)"
   ]
  },
  {
   "cell_type": "code",
   "execution_count": 24,
   "metadata": {},
   "outputs": [
    {
     "data": {
      "text/plain": [
       "array([5, 0, 3, 4, 2, 1, 1], dtype=int64)"
      ]
     },
     "execution_count": 24,
     "metadata": {},
     "output_type": "execute_result"
    }
   ],
   "source": [
    "from sklearn.preprocessing import LabelEncoder\n",
    "encoder = LabelEncoder()\n",
    "#fir과 transform을 동시에 진행, 절대 TEST에는 하면 안된다.\n",
    "encoder.fit_transform(items)"
   ]
  },
  {
   "attachments": {},
   "cell_type": "markdown",
   "metadata": {},
   "source": [
    "### [문자->숫자로 변환]One Hot 인코딩(교재 118)\n",
    " - x값에 주로 사용 (0,1 외의 3개 이상의 카테고리 변수는 원핫인코딩 권장[Pandas의 더미변수])\n",
    " ![image.png](attachment:image.png)\n",
    " - 더미변수\n",
    " - 원핫인코딩()\n",
    " - 인공지능에서는 y값도 이항 또는 다항분류를 softmax 함수 적용할 때는 반드시 원핫인코딩해야 함\n",
    "\n"
   ]
  },
  {
   "cell_type": "code",
   "execution_count": 25,
   "metadata": {},
   "outputs": [
    {
     "data": {
      "text/plain": [
       "[array([' 냉장고', ' 믹서', ' 선풍기', ' 전자레인지', ' 컴퓨터', 'tv'], dtype='<U6')]"
      ]
     },
     "execution_count": 25,
     "metadata": {},
     "output_type": "execute_result"
    }
   ],
   "source": [
    "#OneHotEncoder\n",
    "from sklearn.preprocessing import OneHotEncoder\n",
    "items=('tv, 냉장고, 전자레인지, 컴퓨터, 선풍기, 믹서, 믹서').split(',')\n",
    "items = np.array(items).reshape(-1,1)\n",
    "\n",
    "oh_encoder = OneHotEncoder()\n",
    "oh_encoder.fit(items)\n",
    "oh_encoder.categories_\n"
   ]
  },
  {
   "cell_type": "code",
   "execution_count": 26,
   "metadata": {},
   "outputs": [
    {
     "data": {
      "text/plain": [
       "array([[0., 0., 0., 0., 0., 1.],\n",
       "       [1., 0., 0., 0., 0., 0.],\n",
       "       [0., 0., 0., 1., 0., 0.],\n",
       "       [0., 0., 0., 0., 1., 0.],\n",
       "       [0., 0., 1., 0., 0., 0.],\n",
       "       [0., 1., 0., 0., 0., 0.],\n",
       "       [0., 1., 0., 0., 0., 0.]])"
      ]
     },
     "execution_count": 26,
     "metadata": {},
     "output_type": "execute_result"
    }
   ],
   "source": [
    "oh_labels = oh_encoder.transform(items) # sparse matrix : 0 값이 많은 행렬(희소행렬)\n",
    "arrayData = oh_labels.toarray()\n",
    "arrayData"
   ]
  },
  {
   "attachments": {},
   "cell_type": "markdown",
   "metadata": {},
   "source": [
    "## 참고 ArrayData를 다시 문자로 바꾸는 법"
   ]
  },
  {
   "cell_type": "code",
   "execution_count": 27,
   "metadata": {},
   "outputs": [
    {
     "data": {
      "text/plain": [
       "array(['tv', ' 냉장고', ' 전자레인지', ' 컴퓨터', ' 선풍기', ' 믹서', ' 믹서'], dtype='<U6')"
      ]
     },
     "execution_count": 27,
     "metadata": {},
     "output_type": "execute_result"
    }
   ],
   "source": [
    "orig_items = oh_encoder.inverse_transform(arrayData)\n",
    "orig_items = np.ravel(orig_items)\n",
    "orig_items"
   ]
  },
  {
   "cell_type": "code",
   "execution_count": 28,
   "metadata": {},
   "outputs": [
    {
     "name": "stdout",
     "output_type": "stream",
     "text": [
      "tv\n",
      " 냉장고\n",
      " 전자레인지\n",
      " 컴퓨터\n",
      " 선풍기\n",
      " 믹서\n",
      " 믹서\n"
     ]
    }
   ],
   "source": [
    "classData = [' 냉장고', ' 믹서', ' 선풍기', ' 전자레인지', ' 컴퓨터', 'tv']\n",
    "maxindex = np.argmax(arrayData, axis=1) #행 단위로 가장 큰 값 찾기\n",
    "for x in maxindex:\n",
    "    print(classData[x])"
   ]
  },
  {
   "attachments": {},
   "cell_type": "markdown",
   "metadata": {},
   "source": [
    "### [문자 -> 숫자로 변환] 더미변수화(교재 119)\n",
    " - 카테고리에 해당하는 문자변수를 날개의 필드로 쪼갬\n",
    " - 문제점 : 카테고리로 나눈 unique 갯수가 너무 많으면 x변수로 전부 처리가 안됨(DATA의 한계)\n",
    " - 해결방법 : lasso 모듈을 사용(L1 정규화)\n",
    " - 교재 121 페이지의 get_dummies"
   ]
  },
  {
   "attachments": {},
   "cell_type": "markdown",
   "metadata": {},
   "source": [
    "### 스케일링 방법\n",
    " - 표준화 => StandardScaler(교재 123)\n",
    " - 정규화 => 값의 범위를 0 ~ 1사이로 변경(minmax, 교재 125쪽)"
   ]
  },
  {
   "cell_type": "code",
   "execution_count": 29,
   "metadata": {},
   "outputs": [],
   "source": [
    "import pandas as pd\n",
    "from sklearn.preprocessing import OneHotEncoder\n",
    "from sklearn.compose import make_column_transformer\n",
    "from sklearn.linear_model import Lasso\n",
    "from sklearn.model_selection import cross_validate\n",
    "import numpy as np\n",
    "\n",
    "##########데이터 로드\n",
    "\n",
    "train_df = pd.read_excel('https://github.com/cranberryai/todak_todak_python/blob/master/machine_learning/regression/carprice_E1SUl6b.xlsx?raw=true', sheet_name='train')\n",
    "test_df = pd.read_excel('https://github.com/cranberryai/todak_todak_python/blob/master/machine_learning/regression/carprice_E1SUl6b.xlsx?raw=true', sheet_name='test')"
   ]
  },
  {
   "cell_type": "code",
   "execution_count": 30,
   "metadata": {},
   "outputs": [
    {
     "name": "stdout",
     "output_type": "stream",
     "text": [
      "<class 'pandas.core.frame.DataFrame'>\n",
      "RangeIndex: 102 entries, 0 to 101\n",
      "Data columns (total 11 columns):\n",
      " #   Column  Non-Null Count  Dtype  \n",
      "---  ------  --------------  -----  \n",
      " 0   가격      102 non-null    int64  \n",
      " 1   년식      102 non-null    int64  \n",
      " 2   종류      102 non-null    object \n",
      " 3   연비      102 non-null    float64\n",
      " 4   마력      102 non-null    int64  \n",
      " 5   토크      102 non-null    float64\n",
      " 6   연료      102 non-null    object \n",
      " 7   하이브리드   102 non-null    int64  \n",
      " 8   배기량     102 non-null    int64  \n",
      " 9   중량      102 non-null    int64  \n",
      " 10  변속기     102 non-null    object \n",
      "dtypes: float64(2), int64(6), object(3)\n",
      "memory usage: 8.9+ KB\n"
     ]
    }
   ],
   "source": [
    "df = pd.concat([train_df, test_df], ignore_index=True)\n",
    "df.info()"
   ]
  },
  {
   "cell_type": "code",
   "execution_count": 31,
   "metadata": {},
   "outputs": [
    {
     "name": "stderr",
     "output_type": "stream",
     "text": [
      "c:\\Users\\user\\miniconda3\\envs\\py\\Lib\\site-packages\\seaborn\\utils.py:80: UserWarning: Glyph 44032 (\\N{HANGUL SYLLABLE GA}) missing from current font.\n",
      "  fig.canvas.draw()\n",
      "c:\\Users\\user\\miniconda3\\envs\\py\\Lib\\site-packages\\seaborn\\utils.py:80: UserWarning: Glyph 44201 (\\N{HANGUL SYLLABLE GYEOG}) missing from current font.\n",
      "  fig.canvas.draw()\n",
      "c:\\Users\\user\\miniconda3\\envs\\py\\Lib\\site-packages\\seaborn\\utils.py:80: UserWarning: Glyph 45380 (\\N{HANGUL SYLLABLE NYEON}) missing from current font.\n",
      "  fig.canvas.draw()\n",
      "c:\\Users\\user\\miniconda3\\envs\\py\\Lib\\site-packages\\seaborn\\utils.py:80: UserWarning: Glyph 49885 (\\N{HANGUL SYLLABLE SIG}) missing from current font.\n",
      "  fig.canvas.draw()\n",
      "c:\\Users\\user\\miniconda3\\envs\\py\\Lib\\site-packages\\seaborn\\utils.py:80: UserWarning: Glyph 51333 (\\N{HANGUL SYLLABLE JONG}) missing from current font.\n",
      "  fig.canvas.draw()\n",
      "c:\\Users\\user\\miniconda3\\envs\\py\\Lib\\site-packages\\seaborn\\utils.py:80: UserWarning: Glyph 47448 (\\N{HANGUL SYLLABLE RYU}) missing from current font.\n",
      "  fig.canvas.draw()\n",
      "c:\\Users\\user\\miniconda3\\envs\\py\\Lib\\site-packages\\seaborn\\utils.py:80: UserWarning: Glyph 50672 (\\N{HANGUL SYLLABLE YEON}) missing from current font.\n",
      "  fig.canvas.draw()\n",
      "c:\\Users\\user\\miniconda3\\envs\\py\\Lib\\site-packages\\seaborn\\utils.py:80: UserWarning: Glyph 48708 (\\N{HANGUL SYLLABLE BI}) missing from current font.\n",
      "  fig.canvas.draw()\n",
      "c:\\Users\\user\\miniconda3\\envs\\py\\Lib\\site-packages\\seaborn\\utils.py:80: UserWarning: Glyph 47560 (\\N{HANGUL SYLLABLE MA}) missing from current font.\n",
      "  fig.canvas.draw()\n",
      "c:\\Users\\user\\miniconda3\\envs\\py\\Lib\\site-packages\\seaborn\\utils.py:80: UserWarning: Glyph 47141 (\\N{HANGUL SYLLABLE RYEOG}) missing from current font.\n",
      "  fig.canvas.draw()\n",
      "c:\\Users\\user\\miniconda3\\envs\\py\\Lib\\site-packages\\seaborn\\utils.py:80: UserWarning: Glyph 53664 (\\N{HANGUL SYLLABLE TO}) missing from current font.\n",
      "  fig.canvas.draw()\n",
      "c:\\Users\\user\\miniconda3\\envs\\py\\Lib\\site-packages\\seaborn\\utils.py:80: UserWarning: Glyph 53356 (\\N{HANGUL SYLLABLE KEU}) missing from current font.\n",
      "  fig.canvas.draw()\n",
      "c:\\Users\\user\\miniconda3\\envs\\py\\Lib\\site-packages\\seaborn\\utils.py:80: UserWarning: Glyph 47308 (\\N{HANGUL SYLLABLE RYO}) missing from current font.\n",
      "  fig.canvas.draw()\n",
      "c:\\Users\\user\\miniconda3\\envs\\py\\Lib\\site-packages\\seaborn\\utils.py:80: UserWarning: Glyph 54616 (\\N{HANGUL SYLLABLE HA}) missing from current font.\n",
      "  fig.canvas.draw()\n",
      "c:\\Users\\user\\miniconda3\\envs\\py\\Lib\\site-packages\\seaborn\\utils.py:80: UserWarning: Glyph 51060 (\\N{HANGUL SYLLABLE I}) missing from current font.\n",
      "  fig.canvas.draw()\n",
      "c:\\Users\\user\\miniconda3\\envs\\py\\Lib\\site-packages\\seaborn\\utils.py:80: UserWarning: Glyph 48652 (\\N{HANGUL SYLLABLE BEU}) missing from current font.\n",
      "  fig.canvas.draw()\n",
      "c:\\Users\\user\\miniconda3\\envs\\py\\Lib\\site-packages\\seaborn\\utils.py:80: UserWarning: Glyph 47532 (\\N{HANGUL SYLLABLE RI}) missing from current font.\n",
      "  fig.canvas.draw()\n",
      "c:\\Users\\user\\miniconda3\\envs\\py\\Lib\\site-packages\\seaborn\\utils.py:80: UserWarning: Glyph 46300 (\\N{HANGUL SYLLABLE DEU}) missing from current font.\n",
      "  fig.canvas.draw()\n",
      "c:\\Users\\user\\miniconda3\\envs\\py\\Lib\\site-packages\\seaborn\\utils.py:80: UserWarning: Glyph 48176 (\\N{HANGUL SYLLABLE BAE}) missing from current font.\n",
      "  fig.canvas.draw()\n",
      "c:\\Users\\user\\miniconda3\\envs\\py\\Lib\\site-packages\\seaborn\\utils.py:80: UserWarning: Glyph 44592 (\\N{HANGUL SYLLABLE GI}) missing from current font.\n",
      "  fig.canvas.draw()\n",
      "c:\\Users\\user\\miniconda3\\envs\\py\\Lib\\site-packages\\seaborn\\utils.py:80: UserWarning: Glyph 47049 (\\N{HANGUL SYLLABLE RYANG}) missing from current font.\n",
      "  fig.canvas.draw()\n",
      "c:\\Users\\user\\miniconda3\\envs\\py\\Lib\\site-packages\\seaborn\\utils.py:80: UserWarning: Glyph 51473 (\\N{HANGUL SYLLABLE JUNG}) missing from current font.\n",
      "  fig.canvas.draw()\n",
      "c:\\Users\\user\\miniconda3\\envs\\py\\Lib\\site-packages\\seaborn\\utils.py:80: UserWarning: Glyph 48320 (\\N{HANGUL SYLLABLE BYEON}) missing from current font.\n",
      "  fig.canvas.draw()\n",
      "c:\\Users\\user\\miniconda3\\envs\\py\\Lib\\site-packages\\seaborn\\utils.py:80: UserWarning: Glyph 49549 (\\N{HANGUL SYLLABLE SOG}) missing from current font.\n",
      "  fig.canvas.draw()\n",
      "c:\\Users\\user\\miniconda3\\envs\\py\\Lib\\site-packages\\IPython\\core\\pylabtools.py:152: UserWarning: Glyph 44032 (\\N{HANGUL SYLLABLE GA}) missing from current font.\n",
      "  fig.canvas.print_figure(bytes_io, **kw)\n",
      "c:\\Users\\user\\miniconda3\\envs\\py\\Lib\\site-packages\\IPython\\core\\pylabtools.py:152: UserWarning: Glyph 44201 (\\N{HANGUL SYLLABLE GYEOG}) missing from current font.\n",
      "  fig.canvas.print_figure(bytes_io, **kw)\n",
      "c:\\Users\\user\\miniconda3\\envs\\py\\Lib\\site-packages\\IPython\\core\\pylabtools.py:152: UserWarning: Glyph 45380 (\\N{HANGUL SYLLABLE NYEON}) missing from current font.\n",
      "  fig.canvas.print_figure(bytes_io, **kw)\n",
      "c:\\Users\\user\\miniconda3\\envs\\py\\Lib\\site-packages\\IPython\\core\\pylabtools.py:152: UserWarning: Glyph 49885 (\\N{HANGUL SYLLABLE SIG}) missing from current font.\n",
      "  fig.canvas.print_figure(bytes_io, **kw)\n",
      "c:\\Users\\user\\miniconda3\\envs\\py\\Lib\\site-packages\\IPython\\core\\pylabtools.py:152: UserWarning: Glyph 51333 (\\N{HANGUL SYLLABLE JONG}) missing from current font.\n",
      "  fig.canvas.print_figure(bytes_io, **kw)\n",
      "c:\\Users\\user\\miniconda3\\envs\\py\\Lib\\site-packages\\IPython\\core\\pylabtools.py:152: UserWarning: Glyph 47448 (\\N{HANGUL SYLLABLE RYU}) missing from current font.\n",
      "  fig.canvas.print_figure(bytes_io, **kw)\n",
      "c:\\Users\\user\\miniconda3\\envs\\py\\Lib\\site-packages\\IPython\\core\\pylabtools.py:152: UserWarning: Glyph 50672 (\\N{HANGUL SYLLABLE YEON}) missing from current font.\n",
      "  fig.canvas.print_figure(bytes_io, **kw)\n",
      "c:\\Users\\user\\miniconda3\\envs\\py\\Lib\\site-packages\\IPython\\core\\pylabtools.py:152: UserWarning: Glyph 48708 (\\N{HANGUL SYLLABLE BI}) missing from current font.\n",
      "  fig.canvas.print_figure(bytes_io, **kw)\n",
      "c:\\Users\\user\\miniconda3\\envs\\py\\Lib\\site-packages\\IPython\\core\\pylabtools.py:152: UserWarning: Glyph 47560 (\\N{HANGUL SYLLABLE MA}) missing from current font.\n",
      "  fig.canvas.print_figure(bytes_io, **kw)\n",
      "c:\\Users\\user\\miniconda3\\envs\\py\\Lib\\site-packages\\IPython\\core\\pylabtools.py:152: UserWarning: Glyph 47141 (\\N{HANGUL SYLLABLE RYEOG}) missing from current font.\n",
      "  fig.canvas.print_figure(bytes_io, **kw)\n",
      "c:\\Users\\user\\miniconda3\\envs\\py\\Lib\\site-packages\\IPython\\core\\pylabtools.py:152: UserWarning: Glyph 53664 (\\N{HANGUL SYLLABLE TO}) missing from current font.\n",
      "  fig.canvas.print_figure(bytes_io, **kw)\n",
      "c:\\Users\\user\\miniconda3\\envs\\py\\Lib\\site-packages\\IPython\\core\\pylabtools.py:152: UserWarning: Glyph 53356 (\\N{HANGUL SYLLABLE KEU}) missing from current font.\n",
      "  fig.canvas.print_figure(bytes_io, **kw)\n",
      "c:\\Users\\user\\miniconda3\\envs\\py\\Lib\\site-packages\\IPython\\core\\pylabtools.py:152: UserWarning: Glyph 47308 (\\N{HANGUL SYLLABLE RYO}) missing from current font.\n",
      "  fig.canvas.print_figure(bytes_io, **kw)\n",
      "c:\\Users\\user\\miniconda3\\envs\\py\\Lib\\site-packages\\IPython\\core\\pylabtools.py:152: UserWarning: Glyph 54616 (\\N{HANGUL SYLLABLE HA}) missing from current font.\n",
      "  fig.canvas.print_figure(bytes_io, **kw)\n",
      "c:\\Users\\user\\miniconda3\\envs\\py\\Lib\\site-packages\\IPython\\core\\pylabtools.py:152: UserWarning: Glyph 51060 (\\N{HANGUL SYLLABLE I}) missing from current font.\n",
      "  fig.canvas.print_figure(bytes_io, **kw)\n",
      "c:\\Users\\user\\miniconda3\\envs\\py\\Lib\\site-packages\\IPython\\core\\pylabtools.py:152: UserWarning: Glyph 48652 (\\N{HANGUL SYLLABLE BEU}) missing from current font.\n",
      "  fig.canvas.print_figure(bytes_io, **kw)\n",
      "c:\\Users\\user\\miniconda3\\envs\\py\\Lib\\site-packages\\IPython\\core\\pylabtools.py:152: UserWarning: Glyph 47532 (\\N{HANGUL SYLLABLE RI}) missing from current font.\n",
      "  fig.canvas.print_figure(bytes_io, **kw)\n",
      "c:\\Users\\user\\miniconda3\\envs\\py\\Lib\\site-packages\\IPython\\core\\pylabtools.py:152: UserWarning: Glyph 46300 (\\N{HANGUL SYLLABLE DEU}) missing from current font.\n",
      "  fig.canvas.print_figure(bytes_io, **kw)\n",
      "c:\\Users\\user\\miniconda3\\envs\\py\\Lib\\site-packages\\IPython\\core\\pylabtools.py:152: UserWarning: Glyph 48176 (\\N{HANGUL SYLLABLE BAE}) missing from current font.\n",
      "  fig.canvas.print_figure(bytes_io, **kw)\n",
      "c:\\Users\\user\\miniconda3\\envs\\py\\Lib\\site-packages\\IPython\\core\\pylabtools.py:152: UserWarning: Glyph 44592 (\\N{HANGUL SYLLABLE GI}) missing from current font.\n",
      "  fig.canvas.print_figure(bytes_io, **kw)\n",
      "c:\\Users\\user\\miniconda3\\envs\\py\\Lib\\site-packages\\IPython\\core\\pylabtools.py:152: UserWarning: Glyph 47049 (\\N{HANGUL SYLLABLE RYANG}) missing from current font.\n",
      "  fig.canvas.print_figure(bytes_io, **kw)\n",
      "c:\\Users\\user\\miniconda3\\envs\\py\\Lib\\site-packages\\IPython\\core\\pylabtools.py:152: UserWarning: Glyph 51473 (\\N{HANGUL SYLLABLE JUNG}) missing from current font.\n",
      "  fig.canvas.print_figure(bytes_io, **kw)\n",
      "c:\\Users\\user\\miniconda3\\envs\\py\\Lib\\site-packages\\IPython\\core\\pylabtools.py:152: UserWarning: Glyph 48320 (\\N{HANGUL SYLLABLE BYEON}) missing from current font.\n",
      "  fig.canvas.print_figure(bytes_io, **kw)\n",
      "c:\\Users\\user\\miniconda3\\envs\\py\\Lib\\site-packages\\IPython\\core\\pylabtools.py:152: UserWarning: Glyph 49549 (\\N{HANGUL SYLLABLE SOG}) missing from current font.\n",
      "  fig.canvas.print_figure(bytes_io, **kw)\n"
     ]
    },
    {
     "data": {
      "image/png": "[encoded data removed]",
      "text/plain": [
       "<Figure size 1200x800 with 1 Axes>"
      ]
     },
     "metadata": {},
     "output_type": "display_data"
    }
   ],
   "source": [
    "## 머신러닝에는 결측치가 있으면 안된다.\n",
    "tmp = df.isnull().sum()\n",
    "#plt.bar(tmp.index, tmp)\n",
    "\n",
    "# 결측치 시각화를 통해서 빠르게 확인 가능\n",
    "import seaborn as sns\n",
    "import matplotlib.pyplot as plt\n",
    "\n",
    "plt.figure(figsize=(12,8)) # 그래프 크기를 조절\n",
    "sns.heatmap(df.isnull(), cbar=False, cmap='viridis')\n",
    "plt.show()"
   ]
  },
  {
   "cell_type": "code",
   "execution_count": 32,
   "metadata": {},
   "outputs": [
    {
     "data": {
      "text/html": [
       "<div>\n",
       "<style scoped>\n",
       "    .dataframe tbody tr th:only-of-type {\n",
       "        vertical-align: middle;\n",
       "    }\n",
       "\n",
       "    .dataframe tbody tr th {\n",
       "        vertical-align: top;\n",
       "    }\n",
       "\n",
       "    .dataframe thead th {\n",
       "        text-align: right;\n",
       "    }\n",
       "</style>\n",
       "<table border=\"1\" class=\"dataframe\">\n",
       "  <thead>\n",
       "    <tr style=\"text-align: right;\">\n",
       "      <th></th>\n",
       "      <th>년식</th>\n",
       "      <th>종류</th>\n",
       "      <th>연비</th>\n",
       "      <th>마력</th>\n",
       "      <th>토크</th>\n",
       "      <th>연료</th>\n",
       "      <th>하이브리드</th>\n",
       "      <th>배기량</th>\n",
       "      <th>중량</th>\n",
       "      <th>변속기</th>\n",
       "    </tr>\n",
       "  </thead>\n",
       "  <tbody>\n",
       "    <tr>\n",
       "      <th>0</th>\n",
       "      <td>2015</td>\n",
       "      <td>준중형</td>\n",
       "      <td>11.8</td>\n",
       "      <td>172</td>\n",
       "      <td>21.0</td>\n",
       "      <td>가솔린</td>\n",
       "      <td>0</td>\n",
       "      <td>1999</td>\n",
       "      <td>1300</td>\n",
       "      <td>자동</td>\n",
       "    </tr>\n",
       "    <tr>\n",
       "      <th>1</th>\n",
       "      <td>2015</td>\n",
       "      <td>준중형</td>\n",
       "      <td>12.3</td>\n",
       "      <td>204</td>\n",
       "      <td>27.0</td>\n",
       "      <td>가솔린</td>\n",
       "      <td>0</td>\n",
       "      <td>1591</td>\n",
       "      <td>1300</td>\n",
       "      <td>자동</td>\n",
       "    </tr>\n",
       "    <tr>\n",
       "      <th>2</th>\n",
       "      <td>2015</td>\n",
       "      <td>소형</td>\n",
       "      <td>15.0</td>\n",
       "      <td>100</td>\n",
       "      <td>13.6</td>\n",
       "      <td>가솔린</td>\n",
       "      <td>0</td>\n",
       "      <td>1368</td>\n",
       "      <td>1035</td>\n",
       "      <td>수동</td>\n",
       "    </tr>\n",
       "    <tr>\n",
       "      <th>3</th>\n",
       "      <td>2014</td>\n",
       "      <td>소형</td>\n",
       "      <td>14.0</td>\n",
       "      <td>140</td>\n",
       "      <td>17.0</td>\n",
       "      <td>가솔린</td>\n",
       "      <td>0</td>\n",
       "      <td>1591</td>\n",
       "      <td>1090</td>\n",
       "      <td>자동</td>\n",
       "    </tr>\n",
       "    <tr>\n",
       "      <th>4</th>\n",
       "      <td>2015</td>\n",
       "      <td>대형</td>\n",
       "      <td>9.6</td>\n",
       "      <td>175</td>\n",
       "      <td>46.0</td>\n",
       "      <td>디젤</td>\n",
       "      <td>0</td>\n",
       "      <td>2497</td>\n",
       "      <td>1990</td>\n",
       "      <td>자동</td>\n",
       "    </tr>\n",
       "    <tr>\n",
       "      <th>...</th>\n",
       "      <td>...</td>\n",
       "      <td>...</td>\n",
       "      <td>...</td>\n",
       "      <td>...</td>\n",
       "      <td>...</td>\n",
       "      <td>...</td>\n",
       "      <td>...</td>\n",
       "      <td>...</td>\n",
       "      <td>...</td>\n",
       "      <td>...</td>\n",
       "    </tr>\n",
       "    <tr>\n",
       "      <th>97</th>\n",
       "      <td>2015</td>\n",
       "      <td>대형</td>\n",
       "      <td>8.9</td>\n",
       "      <td>334</td>\n",
       "      <td>40.3</td>\n",
       "      <td>가솔린</td>\n",
       "      <td>0</td>\n",
       "      <td>3778</td>\n",
       "      <td>1915</td>\n",
       "      <td>자동</td>\n",
       "    </tr>\n",
       "    <tr>\n",
       "      <th>98</th>\n",
       "      <td>2015</td>\n",
       "      <td>대형</td>\n",
       "      <td>8.7</td>\n",
       "      <td>175</td>\n",
       "      <td>46.0</td>\n",
       "      <td>디젤</td>\n",
       "      <td>0</td>\n",
       "      <td>2497</td>\n",
       "      <td>2383</td>\n",
       "      <td>수동</td>\n",
       "    </tr>\n",
       "    <tr>\n",
       "      <th>99</th>\n",
       "      <td>2015</td>\n",
       "      <td>대형</td>\n",
       "      <td>9.6</td>\n",
       "      <td>175</td>\n",
       "      <td>46.0</td>\n",
       "      <td>디젤</td>\n",
       "      <td>0</td>\n",
       "      <td>2497</td>\n",
       "      <td>1990</td>\n",
       "      <td>자동</td>\n",
       "    </tr>\n",
       "    <tr>\n",
       "      <th>100</th>\n",
       "      <td>2010</td>\n",
       "      <td>소형</td>\n",
       "      <td>13.0</td>\n",
       "      <td>95</td>\n",
       "      <td>12.7</td>\n",
       "      <td>가솔린</td>\n",
       "      <td>0</td>\n",
       "      <td>1399</td>\n",
       "      <td>1046</td>\n",
       "      <td>자동</td>\n",
       "    </tr>\n",
       "    <tr>\n",
       "      <th>101</th>\n",
       "      <td>2015</td>\n",
       "      <td>중형</td>\n",
       "      <td>14.8</td>\n",
       "      <td>200</td>\n",
       "      <td>43.0</td>\n",
       "      <td>디젤</td>\n",
       "      <td>0</td>\n",
       "      <td>2199</td>\n",
       "      <td>1760</td>\n",
       "      <td>수동</td>\n",
       "    </tr>\n",
       "  </tbody>\n",
       "</table>\n",
       "<p>102 rows × 10 columns</p>\n",
       "</div>"
      ],
      "text/plain": [
       "       년식   종류    연비   마력    토크   연료  하이브리드   배기량    중량 변속기\n",
       "0    2015  준중형  11.8  172  21.0  가솔린      0  1999  1300  자동\n",
       "1    2015  준중형  12.3  204  27.0  가솔린      0  1591  1300  자동\n",
       "2    2015   소형  15.0  100  13.6  가솔린      0  1368  1035  수동\n",
       "3    2014   소형  14.0  140  17.0  가솔린      0  1591  1090  자동\n",
       "4    2015   대형   9.6  175  46.0   디젤      0  2497  1990  자동\n",
       "..    ...  ...   ...  ...   ...  ...    ...   ...   ...  ..\n",
       "97   2015   대형   8.9  334  40.3  가솔린      0  3778  1915  자동\n",
       "98   2015   대형   8.7  175  46.0   디젤      0  2497  2383  수동\n",
       "99   2015   대형   9.6  175  46.0   디젤      0  2497  1990  자동\n",
       "100  2010   소형  13.0   95  12.7  가솔린      0  1399  1046  자동\n",
       "101  2015   중형  14.8  200  43.0   디젤      0  2199  1760  수동\n",
       "\n",
       "[102 rows x 10 columns]"
      ]
     },
     "execution_count": 32,
     "metadata": {},
     "output_type": "execute_result"
    }
   ],
   "source": [
    "## x,y변수 나누고, y값에 영향을 주는 x값을 알기 위해서는 EDA를 실행해야함\n",
    "## 현대자동차 가격을 예측하는 회귀분석\n",
    "\n",
    "y_data = df['가격']\n",
    "x_data = df.drop(['가격'], axis=1)\n",
    "y_data\n",
    "x_data"
   ]
  },
  {
   "cell_type": "code",
   "execution_count": 33,
   "metadata": {},
   "outputs": [
    {
     "data": {
      "text/plain": [
       "가격         int64\n",
       "년식         int64\n",
       "종류        object\n",
       "연비       float64\n",
       "마력         int64\n",
       "토크       float64\n",
       "연료        object\n",
       "하이브리드      int64\n",
       "배기량        int64\n",
       "중량         int64\n",
       "변속기       object\n",
       "dtype: object"
      ]
     },
     "execution_count": 33,
     "metadata": {},
     "output_type": "execute_result"
    }
   ],
   "source": [
    "## x데이터의 문자형식이 어떤 자료가 있는지 확인\n",
    "df.dtypes"
   ]
  },
  {
   "cell_type": "code",
   "execution_count": 34,
   "metadata": {},
   "outputs": [
    {
     "data": {
      "text/html": [
       "<div>\n",
       "<style scoped>\n",
       "    .dataframe tbody tr th:only-of-type {\n",
       "        vertical-align: middle;\n",
       "    }\n",
       "\n",
       "    .dataframe tbody tr th {\n",
       "        vertical-align: top;\n",
       "    }\n",
       "\n",
       "    .dataframe thead th {\n",
       "        text-align: right;\n",
       "    }\n",
       "</style>\n",
       "<table border=\"1\" class=\"dataframe\">\n",
       "  <thead>\n",
       "    <tr style=\"text-align: right;\">\n",
       "      <th></th>\n",
       "      <th>년식</th>\n",
       "      <th>연비</th>\n",
       "      <th>마력</th>\n",
       "      <th>토크</th>\n",
       "      <th>하이브리드</th>\n",
       "      <th>배기량</th>\n",
       "      <th>중량</th>\n",
       "      <th>종류_대형</th>\n",
       "      <th>종류_소형</th>\n",
       "      <th>종류_준중형</th>\n",
       "      <th>종류_중형</th>\n",
       "      <th>연료_LPG</th>\n",
       "      <th>연료_가솔린</th>\n",
       "      <th>연료_디젤</th>\n",
       "      <th>변속기_수동</th>\n",
       "      <th>변속기_자동</th>\n",
       "    </tr>\n",
       "  </thead>\n",
       "  <tbody>\n",
       "    <tr>\n",
       "      <th>0</th>\n",
       "      <td>2015</td>\n",
       "      <td>11.8</td>\n",
       "      <td>172</td>\n",
       "      <td>21.0</td>\n",
       "      <td>0</td>\n",
       "      <td>1999</td>\n",
       "      <td>1300</td>\n",
       "      <td>False</td>\n",
       "      <td>False</td>\n",
       "      <td>True</td>\n",
       "      <td>False</td>\n",
       "      <td>False</td>\n",
       "      <td>True</td>\n",
       "      <td>False</td>\n",
       "      <td>False</td>\n",
       "      <td>True</td>\n",
       "    </tr>\n",
       "    <tr>\n",
       "      <th>1</th>\n",
       "      <td>2015</td>\n",
       "      <td>12.3</td>\n",
       "      <td>204</td>\n",
       "      <td>27.0</td>\n",
       "      <td>0</td>\n",
       "      <td>1591</td>\n",
       "      <td>1300</td>\n",
       "      <td>False</td>\n",
       "      <td>False</td>\n",
       "      <td>True</td>\n",
       "      <td>False</td>\n",
       "      <td>False</td>\n",
       "      <td>True</td>\n",
       "      <td>False</td>\n",
       "      <td>False</td>\n",
       "      <td>True</td>\n",
       "    </tr>\n",
       "    <tr>\n",
       "      <th>2</th>\n",
       "      <td>2015</td>\n",
       "      <td>15.0</td>\n",
       "      <td>100</td>\n",
       "      <td>13.6</td>\n",
       "      <td>0</td>\n",
       "      <td>1368</td>\n",
       "      <td>1035</td>\n",
       "      <td>False</td>\n",
       "      <td>True</td>\n",
       "      <td>False</td>\n",
       "      <td>False</td>\n",
       "      <td>False</td>\n",
       "      <td>True</td>\n",
       "      <td>False</td>\n",
       "      <td>True</td>\n",
       "      <td>False</td>\n",
       "    </tr>\n",
       "    <tr>\n",
       "      <th>3</th>\n",
       "      <td>2014</td>\n",
       "      <td>14.0</td>\n",
       "      <td>140</td>\n",
       "      <td>17.0</td>\n",
       "      <td>0</td>\n",
       "      <td>1591</td>\n",
       "      <td>1090</td>\n",
       "      <td>False</td>\n",
       "      <td>True</td>\n",
       "      <td>False</td>\n",
       "      <td>False</td>\n",
       "      <td>False</td>\n",
       "      <td>True</td>\n",
       "      <td>False</td>\n",
       "      <td>False</td>\n",
       "      <td>True</td>\n",
       "    </tr>\n",
       "    <tr>\n",
       "      <th>4</th>\n",
       "      <td>2015</td>\n",
       "      <td>9.6</td>\n",
       "      <td>175</td>\n",
       "      <td>46.0</td>\n",
       "      <td>0</td>\n",
       "      <td>2497</td>\n",
       "      <td>1990</td>\n",
       "      <td>True</td>\n",
       "      <td>False</td>\n",
       "      <td>False</td>\n",
       "      <td>False</td>\n",
       "      <td>False</td>\n",
       "      <td>False</td>\n",
       "      <td>True</td>\n",
       "      <td>False</td>\n",
       "      <td>True</td>\n",
       "    </tr>\n",
       "    <tr>\n",
       "      <th>...</th>\n",
       "      <td>...</td>\n",
       "      <td>...</td>\n",
       "      <td>...</td>\n",
       "      <td>...</td>\n",
       "      <td>...</td>\n",
       "      <td>...</td>\n",
       "      <td>...</td>\n",
       "      <td>...</td>\n",
       "      <td>...</td>\n",
       "      <td>...</td>\n",
       "      <td>...</td>\n",
       "      <td>...</td>\n",
       "      <td>...</td>\n",
       "      <td>...</td>\n",
       "      <td>...</td>\n",
       "      <td>...</td>\n",
       "    </tr>\n",
       "    <tr>\n",
       "      <th>97</th>\n",
       "      <td>2015</td>\n",
       "      <td>8.9</td>\n",
       "      <td>334</td>\n",
       "      <td>40.3</td>\n",
       "      <td>0</td>\n",
       "      <td>3778</td>\n",
       "      <td>1915</td>\n",
       "      <td>True</td>\n",
       "      <td>False</td>\n",
       "      <td>False</td>\n",
       "      <td>False</td>\n",
       "      <td>False</td>\n",
       "      <td>True</td>\n",
       "      <td>False</td>\n",
       "      <td>False</td>\n",
       "      <td>True</td>\n",
       "    </tr>\n",
       "    <tr>\n",
       "      <th>98</th>\n",
       "      <td>2015</td>\n",
       "      <td>8.7</td>\n",
       "      <td>175</td>\n",
       "      <td>46.0</td>\n",
       "      <td>0</td>\n",
       "      <td>2497</td>\n",
       "      <td>2383</td>\n",
       "      <td>True</td>\n",
       "      <td>False</td>\n",
       "      <td>False</td>\n",
       "      <td>False</td>\n",
       "      <td>False</td>\n",
       "      <td>False</td>\n",
       "      <td>True</td>\n",
       "      <td>True</td>\n",
       "      <td>False</td>\n",
       "    </tr>\n",
       "    <tr>\n",
       "      <th>99</th>\n",
       "      <td>2015</td>\n",
       "      <td>9.6</td>\n",
       "      <td>175</td>\n",
       "      <td>46.0</td>\n",
       "      <td>0</td>\n",
       "      <td>2497</td>\n",
       "      <td>1990</td>\n",
       "      <td>True</td>\n",
       "      <td>False</td>\n",
       "      <td>False</td>\n",
       "      <td>False</td>\n",
       "      <td>False</td>\n",
       "      <td>False</td>\n",
       "      <td>True</td>\n",
       "      <td>False</td>\n",
       "      <td>True</td>\n",
       "    </tr>\n",
       "    <tr>\n",
       "      <th>100</th>\n",
       "      <td>2010</td>\n",
       "      <td>13.0</td>\n",
       "      <td>95</td>\n",
       "      <td>12.7</td>\n",
       "      <td>0</td>\n",
       "      <td>1399</td>\n",
       "      <td>1046</td>\n",
       "      <td>False</td>\n",
       "      <td>True</td>\n",
       "      <td>False</td>\n",
       "      <td>False</td>\n",
       "      <td>False</td>\n",
       "      <td>True</td>\n",
       "      <td>False</td>\n",
       "      <td>False</td>\n",
       "      <td>True</td>\n",
       "    </tr>\n",
       "    <tr>\n",
       "      <th>101</th>\n",
       "      <td>2015</td>\n",
       "      <td>14.8</td>\n",
       "      <td>200</td>\n",
       "      <td>43.0</td>\n",
       "      <td>0</td>\n",
       "      <td>2199</td>\n",
       "      <td>1760</td>\n",
       "      <td>False</td>\n",
       "      <td>False</td>\n",
       "      <td>False</td>\n",
       "      <td>True</td>\n",
       "      <td>False</td>\n",
       "      <td>False</td>\n",
       "      <td>True</td>\n",
       "      <td>True</td>\n",
       "      <td>False</td>\n",
       "    </tr>\n",
       "  </tbody>\n",
       "</table>\n",
       "<p>102 rows × 16 columns</p>\n",
       "</div>"
      ],
      "text/plain": [
       "       년식    연비   마력    토크  하이브리드   배기량    중량  종류_대형  종류_소형  종류_준중형  종류_중형  \\\n",
       "0    2015  11.8  172  21.0      0  1999  1300  False  False    True  False   \n",
       "1    2015  12.3  204  27.0      0  1591  1300  False  False    True  False   \n",
       "2    2015  15.0  100  13.6      0  1368  1035  False   True   False  False   \n",
       "3    2014  14.0  140  17.0      0  1591  1090  False   True   False  False   \n",
       "4    2015   9.6  175  46.0      0  2497  1990   True  False   False  False   \n",
       "..    ...   ...  ...   ...    ...   ...   ...    ...    ...     ...    ...   \n",
       "97   2015   8.9  334  40.3      0  3778  1915   True  False   False  False   \n",
       "98   2015   8.7  175  46.0      0  2497  2383   True  False   False  False   \n",
       "99   2015   9.6  175  46.0      0  2497  1990   True  False   False  False   \n",
       "100  2010  13.0   95  12.7      0  1399  1046  False   True   False  False   \n",
       "101  2015  14.8  200  43.0      0  2199  1760  False  False   False   True   \n",
       "\n",
       "     연료_LPG  연료_가솔린  연료_디젤  변속기_수동  변속기_자동  \n",
       "0     False    True  False   False    True  \n",
       "1     False    True  False   False    True  \n",
       "2     False    True  False    True   False  \n",
       "3     False    True  False   False    True  \n",
       "4     False   False   True   False    True  \n",
       "..      ...     ...    ...     ...     ...  \n",
       "97    False    True  False   False    True  \n",
       "98    False   False   True    True   False  \n",
       "99    False   False   True   False    True  \n",
       "100   False    True  False   False    True  \n",
       "101   False   False   True    True   False  \n",
       "\n",
       "[102 rows x 16 columns]"
      ]
     },
     "execution_count": 34,
     "metadata": {},
     "output_type": "execute_result"
    }
   ],
   "source": [
    "## 문자자료의 원핫인코딩화\n",
    "#종류, 연료, 변속기 == object인 data 처리\n",
    "xdummy=pd.get_dummies(x_data)\n",
    "xdummy"
   ]
  },
  {
   "cell_type": "code",
   "execution_count": 35,
   "metadata": {},
   "outputs": [
    {
     "name": "stdout",
     "output_type": "stream",
     "text": [
      "년식          int64\n",
      "연비        float64\n",
      "마력          int64\n",
      "토크        float64\n",
      "하이브리드       int64\n",
      "배기량         int64\n",
      "중량          int64\n",
      "종류_대형        bool\n",
      "종류_소형        bool\n",
      "종류_준중형       bool\n",
      "종류_중형        bool\n",
      "연료_LPG       bool\n",
      "연료_가솔린       bool\n",
      "연료_디젤        bool\n",
      "변속기_수동       bool\n",
      "변속기_자동       bool\n",
      "dtype: object\n"
     ]
    }
   ],
   "source": [
    "## 훈련과 테스트 데이터로 분리\n",
    "# 훈련자료를 70%로 지정하고, 같은 자료로 나눌 수 있도록 설정\n",
    "from sklearn.model_selection import train_test_split\n",
    "\n",
    "x_train, x_test, y_train, y_test = train_test_split(xdummy,\n",
    "                                                    y_data,\n",
    "                                                    test_size=0.2,\n",
    "                                                    random_state=777)\n",
    "\n",
    "print(xdummy.dtypes)"
   ]
  },
  {
   "cell_type": "code",
   "execution_count": 36,
   "metadata": {},
   "outputs": [
    {
     "name": "stdout",
     "output_type": "stream",
     "text": [
      "<class 'pandas.core.frame.DataFrame'>\n",
      "RangeIndex: 102 entries, 0 to 101\n",
      "Data columns (total 16 columns):\n",
      " #   Column  Non-Null Count  Dtype  \n",
      "---  ------  --------------  -----  \n",
      " 0   년식      102 non-null    int64  \n",
      " 1   연비      102 non-null    float64\n",
      " 2   마력      102 non-null    int64  \n",
      " 3   토크      102 non-null    float64\n",
      " 4   하이브리드   102 non-null    int64  \n",
      " 5   배기량     102 non-null    int64  \n",
      " 6   중량      102 non-null    int64  \n",
      " 7   종류_대형   102 non-null    bool   \n",
      " 8   종류_소형   102 non-null    bool   \n",
      " 9   종류_준중형  102 non-null    bool   \n",
      " 10  종류_중형   102 non-null    bool   \n",
      " 11  연료_LPG  102 non-null    bool   \n",
      " 12  연료_가솔린  102 non-null    bool   \n",
      " 13  연료_디젤   102 non-null    bool   \n",
      " 14  변속기_수동  102 non-null    bool   \n",
      " 15  변속기_자동  102 non-null    bool   \n",
      "dtypes: bool(9), float64(2), int64(5)\n",
      "memory usage: 6.6 KB\n"
     ]
    }
   ],
   "source": [
    "xdummy.info()"
   ]
  },
  {
   "cell_type": "code",
   "execution_count": 37,
   "metadata": {},
   "outputs": [],
   "source": [
    "##권장사항(스케일링)\n",
    "from sklearn.preprocessing import MinMaxScaler\n",
    "\n",
    "# MinMaxScaler 객체 생성\n",
    "scaler = MinMaxScaler()\n",
    "\n",
    "# 훈련 데이터에 fit과 transform 수행\n",
    "x_train_scaled = scaler.fit_transform(x_train)\n",
    "\n",
    "# 테스트 데이터에는 transform만 수행\n",
    "x_test_scaled = scaler.transform(x_test)\n",
    "# x_train\n",
    "# x_test"
   ]
  },
  {
   "attachments": {},
   "cell_type": "markdown",
   "metadata": {},
   "source": [
    "#### X변수끼리는 독립적이어야 한다.\n",
    "#### 이러한 독립성을 확인하는 방법으로는 VIF(분산팽창지수)가 있다.\n",
    "#### VIF가 10 이상이면 서로 종속적인 것(다중공선성)"
   ]
  },
  {
   "cell_type": "code",
   "execution_count": 38,
   "metadata": {},
   "outputs": [
    {
     "data": {
      "text/plain": [
       "(array([ -17.45919753,  150.24460425,   11.07398883,   -5.81821543,\n",
       "         200.84283137,    1.42708816,    0.47902711, -246.93962278,\n",
       "         299.63332794,  -36.95059055,  -15.7431146 ,  213.98820179,\n",
       "         -37.07375216, -176.91444963,  -84.38884584,   84.38884584]),\n",
       " 30240.26778667933)"
      ]
     },
     "execution_count": 38,
     "metadata": {},
     "output_type": "execute_result"
    }
   ],
   "source": [
    "## 회귀분석(어떤 회귀분석을 할 것인가는 사용자의 선택)\n",
    "## 3개 이상의 모델을 돌려서 가장 성능이 좋은 모델을 제출\n",
    "from sklearn.linear_model import LinearRegression\n",
    "lr = LinearRegression() # intercept는 default가 TRUE\n",
    "lr.fit(x_train, y_train)    #w, b값을 최소제곱법에 의해서 결정하는 수식이 적용\n",
    "lr.coef_, lr.intercept_\n"
   ]
  },
  {
   "cell_type": "code",
   "execution_count": 297,
   "metadata": {},
   "outputs": [],
   "source": [
    "## 회귀자료 에러율 및 성공률 확일\n",
    "## 회귀평가지표 - 교재 322\n",
    "## 교재 326, 327"
   ]
  },
  {
   "cell_type": "code",
   "execution_count": 39,
   "metadata": {},
   "outputs": [
    {
     "data": {
      "text/plain": [
       "(1986813.5111843485, 0.3519851611435677)"
      ]
     },
     "execution_count": 39,
     "metadata": {},
     "output_type": "execute_result"
    }
   ],
   "source": [
    "# from sklearn.model_selection import train_test_split\n",
    "# from sklearn.linear_model import LinearRegression\n",
    "from sklearn.metrics import mean_squared_error, r2_score # r2square는 성공률\n",
    "\n",
    "pred = lr.predict(x_test) #wx+wx+... b, yhat 예측값 생성\n",
    "mean_squared_error(pred, y_test), r2_score(pred, y_test)"
   ]
  },
  {
   "cell_type": "code",
   "execution_count": 40,
   "metadata": {},
   "outputs": [
    {
     "data": {
      "text/plain": [
       "종류_소형     299.6\n",
       "연료_LPG    214.0\n",
       "하이브리드     200.8\n",
       "연비        150.2\n",
       "변속기_자동     84.4\n",
       "마력         11.1\n",
       "배기량         1.4\n",
       "중량          0.5\n",
       "토크         -5.8\n",
       "종류_중형     -15.7\n",
       "년식        -17.5\n",
       "종류_준중형    -37.0\n",
       "연료_가솔린    -37.1\n",
       "변속기_수동    -84.4\n",
       "연료_디젤    -176.9\n",
       "종류_대형    -246.9\n",
       "dtype: float64"
      ]
     },
     "execution_count": 40,
     "metadata": {},
     "output_type": "execute_result"
    }
   ],
   "source": [
    "## 변수영향력 확인 (wx+wx+wx...b에서 w값을 coef_라고 하고 그 값의 크기를 확인해서)\n",
    "## coef_의 값이 클 수록 영향력이 많은 변수\n",
    "## 교재 327\n",
    "coeff=pd.Series(data=np.round(lr.coef_,1), index=xdummy.columns)\n",
    "coeff.sort_values(ascending=False)"
   ]
  },
  {
   "cell_type": "code",
   "execution_count": 43,
   "metadata": {},
   "outputs": [
    {
     "name": "stdout",
     "output_type": "stream",
     "text": [
      "Mean Squared Error: 793894.5094855537\n"
     ]
    }
   ],
   "source": [
    "from sklearn.ensemble import GradientBoostingRegressor\n",
    "gbr = GradientBoostingRegressor(random_state=0)\n",
    "gbr.fit(x_train, y_train)\n",
    "predictions = gbr.predict(x_test)\n",
    "\n",
    "from sklearn.metrics import mean_squared_error\n",
    "\n",
    "mse = mean_squared_error(y_test, predictions)\n",
    "print(f\"Mean Squared Error: {mse}\")"
   ]
  },
  {
   "cell_type": "code",
   "execution_count": null,
   "metadata": {},
   "outputs": [],
   "source": []
  }
 ],
 "metadata": {
  "kernelspec": {
   "display_name": "py",
   "language": "python",
   "name": "python3"
  },
  "language_info": {
   "codemirror_mode": {
    "name": "ipython",
    "version": 3
   },
   "file_extension": ".py",
   "mimetype": "text/x-python",
   "name": "python",
   "nbconvert_exporter": "python",
   "pygments_lexer": "ipython3",
   "version": "3.11.3"
  },
  "orig_nbformat": 4
 },
 "nbformat": 4,
 "nbformat_minor": 2
}
